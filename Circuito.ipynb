{
 "cells": [
  {
   "cell_type": "code",
   "execution_count": 84,
   "metadata": {},
   "outputs": [],
   "source": [
    "#Importing necessary modules \n",
    "import random\n",
    "from deap import base, creator, tools, algorithms\n",
    "import numpy\n",
    "import math"
   ]
  },
  {
   "cell_type": "code",
   "execution_count": 85,
   "metadata": {},
   "outputs": [],
   "source": [
    "# Empezamos por declarar el fitness de cada individuo: Si es un problema\n",
    "# de maximización el valor del atributo weights es 1, si por el contrario\n",
    "# el problema es de minimización el valor es -1.\n",
    "# Consideramos que nuestro objetivo es reducir al mínimo el número de errores\n",
    "# que contenga el circuito.\n"
   ]
  },
  {
   "cell_type": "code",
   "execution_count": 113,
   "metadata": {},
   "outputs": [
    {
     "name": "stderr",
     "output_type": "stream",
     "text": [
      "D:\\Program Files\\Anaconda3\\lib\\site-packages\\deap\\creator.py:141: RuntimeWarning: A class named 'Fitness' has already been created and it will be overwritten. Consider deleting previous creation of that class or rename it.\n",
      "  RuntimeWarning)\n"
     ]
    }
   ],
   "source": [
    "creator.create('Fitness', base.Fitness, weights=(-1.0,))"
   ]
  },
  {
   "cell_type": "code",
   "execution_count": 114,
   "metadata": {},
   "outputs": [],
   "source": [
    "#Consideramos los individuos del problema como las puertas lógicas."
   ]
  },
  {
   "cell_type": "code",
   "execution_count": 115,
   "metadata": {},
   "outputs": [
    {
     "name": "stderr",
     "output_type": "stream",
     "text": [
      "D:\\Program Files\\Anaconda3\\lib\\site-packages\\deap\\creator.py:141: RuntimeWarning: A class named 'Individuo' has already been created and it will be overwritten. Consider deleting previous creation of that class or rename it.\n",
      "  RuntimeWarning)\n"
     ]
    }
   ],
   "source": [
    "creator.create('Individuo', list, fitness = creator.Fitness)"
   ]
  },
  {
   "cell_type": "code",
   "execution_count": 26,
   "metadata": {},
   "outputs": [],
   "source": [
    "# A continuación debemos de crear la caja de herramienta donde vamos a\n",
    "# registrar los elementos necesarios para poder aplicar el algoritmo genético."
   ]
  },
  {
   "cell_type": "code",
   "execution_count": 116,
   "metadata": {},
   "outputs": [],
   "source": [
    "caja_de_herramientas = base.Toolbox()"
   ]
  },
  {
   "cell_type": "code",
   "execution_count": 117,
   "metadata": {},
   "outputs": [],
   "source": [
    "#Declaramos las puertas lógicas\n",
    "def puerta_or(a,b):\n",
    "    return a+b\n",
    "\n",
    "def puerta_and(a,b):\n",
    "    return a*b\n",
    "\n",
    "def puerta_not(a):\n",
    "    if a==0:\n",
    "        return 1\n",
    "    if a==1:\n",
    "        return 0\n",
    "\n",
    "def puerta_nand(a,b):\n",
    "    if a==0 and b==0:\n",
    "        return 1\n",
    "    elif a==0 and b==1:\n",
    "        return 1\n",
    "    elif a==1 and b==0:\n",
    "        return 1\n",
    "    elif a==1 and b==1:\n",
    "        return 0\n",
    "\n",
    "def puerta_xor(a,b):\n",
    "    if a==1 and b==1:\n",
    "        return 0\n",
    "    return a+b"
   ]
  },
  {
   "cell_type": "code",
   "execution_count": 118,
   "metadata": {},
   "outputs": [],
   "source": [
    "# Registramos una función gen que devuelve un número de 0 a 4, los cuales\n",
    "# representan las distintas puertas anteriores puestas en orden."
   ]
  },
  {
   "cell_type": "code",
   "execution_count": 119,
   "metadata": {},
   "outputs": [],
   "source": [
    "caja_de_herramientas.register('gen', random.randint, 0, 5)"
   ]
  },
  {
   "cell_type": "code",
   "execution_count": 120,
   "metadata": {},
   "outputs": [],
   "source": [
    "# Vamos a implementar la posibilidad de elegir libremente los valores del\n",
    "# número de capas y de puertas lógicas"
   ]
  },
  {
   "cell_type": "code",
   "execution_count": 129,
   "metadata": {},
   "outputs": [
    {
     "name": "stdout",
     "output_type": "stream",
     "text": [
      "Numero de capas: 3\n",
      "Numero de puertas: 3\n",
      "Circuito Inicial:\n",
      "3\n",
      "5\n",
      "0\n",
      "2\n",
      "2\n",
      "1\n",
      "2\n",
      "4\n",
      "3\n"
     ]
    }
   ],
   "source": [
    "M = int(input(\"Numero de capas: \"))\n",
    "N = int(input(\"Numero de puertas: \"))\n",
    "#Semilla para la generación de números aleatorios\n",
    "print(\"Circuito Inicial:\")\n",
    "random.seed(12345) \n",
    "for _ in range(M*N):\n",
    "    print(caja_de_herramientas.gen())\n",
    "    "
   ]
  },
  {
   "cell_type": "code",
   "execution_count": 65,
   "metadata": {},
   "outputs": [],
   "source": [
    "# A continuación llamamomos a la funcion individuo que nos genera un individuo\n",
    "# con sus genes. Las conexiones máximas que puede tener una puerta son 3."
   ]
  },
  {
   "cell_type": "code",
   "execution_count": 130,
   "metadata": {},
   "outputs": [],
   "source": [
    "caja_de_herramientas.register('individuo', tools.initRepeat,\n",
    "                              container=creator.Individuo, func=caja_de_herramientas.gen, n=3*(M*N))"
   ]
  },
  {
   "cell_type": "code",
   "execution_count": 131,
   "metadata": {},
   "outputs": [
    {
     "data": {
      "text/plain": [
       "[3,\n",
       " 5,\n",
       " 0,\n",
       " 2,\n",
       " 2,\n",
       " 1,\n",
       " 2,\n",
       " 4,\n",
       " 3,\n",
       " 1,\n",
       " 2,\n",
       " 0,\n",
       " 3,\n",
       " 2,\n",
       " 4,\n",
       " 5,\n",
       " 1,\n",
       " 4,\n",
       " 4,\n",
       " 1,\n",
       " 2,\n",
       " 5,\n",
       " 5,\n",
       " 0,\n",
       " 4,\n",
       " 5,\n",
       " 3]"
      ]
     },
     "execution_count": 131,
     "metadata": {},
     "output_type": "execute_result"
    }
   ],
   "source": [
    "random.seed(12345)\n",
    "caja_de_herramientas.individuo()\n",
    "# El primer gen se asocia al tipo de puerta de la capa, el segundo y el tercero\n",
    "# se asocia al tipo de puerta del que recibe señal"
   ]
  },
  {
   "cell_type": "code",
   "execution_count": 132,
   "metadata": {},
   "outputs": [],
   "source": [
    "# Consideramos una población como una lista de 10 individuos"
   ]
  },
  {
   "cell_type": "code",
   "execution_count": 133,
   "metadata": {},
   "outputs": [],
   "source": [
    "caja_de_herramientas.register('población', tools.initRepeat,\n",
    "                              container=list, func=caja_de_herramientas.individuo, n=10)"
   ]
  },
  {
   "cell_type": "code",
   "execution_count": 134,
   "metadata": {},
   "outputs": [
    {
     "data": {
      "text/plain": [
       "[[3,\n",
       "  5,\n",
       "  0,\n",
       "  2,\n",
       "  2,\n",
       "  1,\n",
       "  2,\n",
       "  4,\n",
       "  3,\n",
       "  1,\n",
       "  2,\n",
       "  0,\n",
       "  3,\n",
       "  2,\n",
       "  4,\n",
       "  5,\n",
       "  1,\n",
       "  4,\n",
       "  4,\n",
       "  1,\n",
       "  2,\n",
       "  5,\n",
       "  5,\n",
       "  0,\n",
       "  4,\n",
       "  5,\n",
       "  3],\n",
       " [4,\n",
       "  4,\n",
       "  1,\n",
       "  1,\n",
       "  1,\n",
       "  5,\n",
       "  0,\n",
       "  1,\n",
       "  2,\n",
       "  2,\n",
       "  0,\n",
       "  3,\n",
       "  2,\n",
       "  0,\n",
       "  4,\n",
       "  5,\n",
       "  5,\n",
       "  3,\n",
       "  0,\n",
       "  0,\n",
       "  5,\n",
       "  1,\n",
       "  4,\n",
       "  1,\n",
       "  2,\n",
       "  0,\n",
       "  5],\n",
       " [3,\n",
       "  0,\n",
       "  5,\n",
       "  4,\n",
       "  1,\n",
       "  5,\n",
       "  3,\n",
       "  1,\n",
       "  4,\n",
       "  4,\n",
       "  5,\n",
       "  2,\n",
       "  0,\n",
       "  1,\n",
       "  0,\n",
       "  3,\n",
       "  1,\n",
       "  5,\n",
       "  4,\n",
       "  5,\n",
       "  1,\n",
       "  2,\n",
       "  4,\n",
       "  3,\n",
       "  4,\n",
       "  1,\n",
       "  0],\n",
       " [1,\n",
       "  2,\n",
       "  0,\n",
       "  1,\n",
       "  1,\n",
       "  2,\n",
       "  4,\n",
       "  2,\n",
       "  1,\n",
       "  3,\n",
       "  2,\n",
       "  0,\n",
       "  0,\n",
       "  0,\n",
       "  5,\n",
       "  3,\n",
       "  0,\n",
       "  3,\n",
       "  1,\n",
       "  0,\n",
       "  5,\n",
       "  2,\n",
       "  1,\n",
       "  5,\n",
       "  4,\n",
       "  0,\n",
       "  3],\n",
       " [4,\n",
       "  0,\n",
       "  0,\n",
       "  5,\n",
       "  3,\n",
       "  2,\n",
       "  4,\n",
       "  3,\n",
       "  4,\n",
       "  1,\n",
       "  2,\n",
       "  5,\n",
       "  5,\n",
       "  0,\n",
       "  4,\n",
       "  1,\n",
       "  0,\n",
       "  3,\n",
       "  1,\n",
       "  2,\n",
       "  1,\n",
       "  1,\n",
       "  1,\n",
       "  1,\n",
       "  2,\n",
       "  1,\n",
       "  4],\n",
       " [0,\n",
       "  4,\n",
       "  5,\n",
       "  0,\n",
       "  1,\n",
       "  0,\n",
       "  5,\n",
       "  3,\n",
       "  1,\n",
       "  4,\n",
       "  0,\n",
       "  2,\n",
       "  4,\n",
       "  3,\n",
       "  0,\n",
       "  3,\n",
       "  3,\n",
       "  1,\n",
       "  1,\n",
       "  1,\n",
       "  0,\n",
       "  2,\n",
       "  2,\n",
       "  1,\n",
       "  3,\n",
       "  1,\n",
       "  1],\n",
       " [4,\n",
       "  5,\n",
       "  4,\n",
       "  1,\n",
       "  3,\n",
       "  4,\n",
       "  5,\n",
       "  3,\n",
       "  2,\n",
       "  0,\n",
       "  0,\n",
       "  5,\n",
       "  3,\n",
       "  5,\n",
       "  1,\n",
       "  5,\n",
       "  4,\n",
       "  4,\n",
       "  1,\n",
       "  5,\n",
       "  1,\n",
       "  4,\n",
       "  1,\n",
       "  2,\n",
       "  4,\n",
       "  2,\n",
       "  1],\n",
       " [4,\n",
       "  4,\n",
       "  5,\n",
       "  5,\n",
       "  0,\n",
       "  2,\n",
       "  3,\n",
       "  0,\n",
       "  2,\n",
       "  4,\n",
       "  4,\n",
       "  4,\n",
       "  0,\n",
       "  5,\n",
       "  0,\n",
       "  1,\n",
       "  2,\n",
       "  5,\n",
       "  5,\n",
       "  0,\n",
       "  2,\n",
       "  5,\n",
       "  3,\n",
       "  5,\n",
       "  2,\n",
       "  3,\n",
       "  2],\n",
       " [3,\n",
       "  4,\n",
       "  2,\n",
       "  2,\n",
       "  5,\n",
       "  3,\n",
       "  3,\n",
       "  0,\n",
       "  2,\n",
       "  3,\n",
       "  0,\n",
       "  1,\n",
       "  2,\n",
       "  1,\n",
       "  0,\n",
       "  5,\n",
       "  5,\n",
       "  0,\n",
       "  0,\n",
       "  0,\n",
       "  4,\n",
       "  1,\n",
       "  3,\n",
       "  3,\n",
       "  1,\n",
       "  2,\n",
       "  2],\n",
       " [1,\n",
       "  2,\n",
       "  5,\n",
       "  2,\n",
       "  3,\n",
       "  0,\n",
       "  4,\n",
       "  2,\n",
       "  2,\n",
       "  0,\n",
       "  3,\n",
       "  1,\n",
       "  1,\n",
       "  0,\n",
       "  1,\n",
       "  2,\n",
       "  1,\n",
       "  2,\n",
       "  3,\n",
       "  1,\n",
       "  0,\n",
       "  1,\n",
       "  0,\n",
       "  4,\n",
       "  0,\n",
       "  2,\n",
       "  3]]"
      ]
     },
     "execution_count": 134,
     "metadata": {},
     "output_type": "execute_result"
    }
   ],
   "source": [
    "random.seed(12345)\n",
    "caja_de_herramientas.población()"
   ]
  },
  {
   "cell_type": "code",
   "execution_count": null,
   "metadata": {},
   "outputs": [],
   "source": []
  },
  {
   "cell_type": "code",
   "execution_count": null,
   "metadata": {},
   "outputs": [],
   "source": []
  },
  {
   "cell_type": "code",
   "execution_count": null,
   "metadata": {},
   "outputs": [],
   "source": []
  },
  {
   "cell_type": "code",
   "execution_count": null,
   "metadata": {},
   "outputs": [],
   "source": []
  },
  {
   "cell_type": "code",
   "execution_count": null,
   "metadata": {},
   "outputs": [],
   "source": []
  },
  {
   "cell_type": "code",
   "execution_count": null,
   "metadata": {},
   "outputs": [],
   "source": []
  },
  {
   "cell_type": "code",
   "execution_count": null,
   "metadata": {},
   "outputs": [],
   "source": []
  },
  {
   "cell_type": "code",
   "execution_count": null,
   "metadata": {},
   "outputs": [],
   "source": []
  },
  {
   "cell_type": "code",
   "execution_count": null,
   "metadata": {},
   "outputs": [],
   "source": []
  },
  {
   "cell_type": "code",
   "execution_count": null,
   "metadata": {},
   "outputs": [],
   "source": []
  },
  {
   "cell_type": "code",
   "execution_count": null,
   "metadata": {},
   "outputs": [],
   "source": []
  },
  {
   "cell_type": "code",
   "execution_count": null,
   "metadata": {},
   "outputs": [],
   "source": []
  },
  {
   "cell_type": "code",
   "execution_count": null,
   "metadata": {},
   "outputs": [],
   "source": []
  },
  {
   "cell_type": "code",
   "execution_count": null,
   "metadata": {},
   "outputs": [],
   "source": []
  },
  {
   "cell_type": "code",
   "execution_count": null,
   "metadata": {},
   "outputs": [],
   "source": []
  }
 ],
 "metadata": {
  "kernelspec": {
   "display_name": "Python 3",
   "language": "python",
   "name": "python3"
  },
  "language_info": {
   "codemirror_mode": {
    "name": "ipython",
    "version": 3
   },
   "file_extension": ".py",
   "mimetype": "text/x-python",
   "name": "python",
   "nbconvert_exporter": "python",
   "pygments_lexer": "ipython3",
   "version": "3.6.4"
  }
 },
 "nbformat": 4,
 "nbformat_minor": 2
}
