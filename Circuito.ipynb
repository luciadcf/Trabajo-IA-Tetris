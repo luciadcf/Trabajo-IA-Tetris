{
 "cells": [
  {
   "cell_type": "code",
   "execution_count": 21,
   "metadata": {},
   "outputs": [],
   "source": [
    "#Importing necessary modules \n",
    "import random\n",
    "from deap import base, creator, tools, algorithms\n",
    "import numpy\n",
    "import math"
   ]
  },
  {
   "cell_type": "code",
   "execution_count": 22,
   "metadata": {},
   "outputs": [],
   "source": [
    "# Empezamos por declarar el fitness de cada individuo: Si es un problema\n",
    "# de maximización el valor del atributo weights es 1, si por el contrario\n",
    "# el problema es de minimización el valor es -1.\n",
    "# Consideramos que nuestro objetivo es reducir al mínimo el número de errores\n",
    "# que contenga el circuito.\n"
   ]
  },
  {
   "cell_type": "code",
   "execution_count": 23,
   "metadata": {},
   "outputs": [],
   "source": [
    "creator.create('Fitness', base.Fitness, weights=(-1.0,))"
   ]
  },
  {
   "cell_type": "code",
   "execution_count": 24,
   "metadata": {},
   "outputs": [],
   "source": [
    "#Consideramos los individuos del problema como las puertas lógicas."
   ]
  },
  {
   "cell_type": "code",
   "execution_count": 25,
   "metadata": {},
   "outputs": [],
   "source": [
    "creator.create('Individuo', list, fitness = creator.Fitness)"
   ]
  },
  {
   "cell_type": "code",
   "execution_count": 26,
   "metadata": {},
   "outputs": [],
   "source": [
    "# A continuación debemos de crear la caja de herramienta donde vamos a\n",
    "# registrar los elementos necesarios para poder aplicar el algoritmo genético."
   ]
  },
  {
   "cell_type": "code",
   "execution_count": 27,
   "metadata": {},
   "outputs": [],
   "source": [
    "caja_de_herramientas = base.Toolbox()"
   ]
  },
  {
   "cell_type": "code",
   "execution_count": 28,
   "metadata": {},
   "outputs": [],
   "source": [
    "#Declaramos las puertas lógicas\n",
    "def puerta_or(a,b):\n",
    "    return a+b\n",
    "\n",
    "def puerta_and(a,b):\n",
    "    return a*b\n",
    "\n",
    "def puerta_not(a):\n",
    "    if a==0:\n",
    "        return 1\n",
    "    if a==1:\n",
    "        return 0\n",
    "\n",
    "def puerta_nand(a,b):\n",
    "    if a==0 and b==0:\n",
    "        return 1\n",
    "    elif a==0 and b==1:\n",
    "        return 1\n",
    "    elif a==1 and b==0:\n",
    "        return 1\n",
    "    elif a==1 and b==1:\n",
    "        return 0\n",
    "\n",
    "def puerta_xor(a,b):\n",
    "    if a==1 and b==1:\n",
    "        return 0\n",
    "    return a+b"
   ]
  },
  {
   "cell_type": "code",
   "execution_count": null,
   "metadata": {},
   "outputs": [],
   "source": [
    "# Registramos una función gen que devuelve un número de 0 a 4, los cuales\n",
    "# representan las distintas puertas anteriores puestas en orden."
   ]
  },
  {
   "cell_type": "code",
   "execution_count": 45,
   "metadata": {},
   "outputs": [],
   "source": [
    "caja_de_herramientas.register('gen', random.randint, 0, 4)"
   ]
  },
  {
   "cell_type": "code",
   "execution_count": 46,
   "metadata": {},
   "outputs": [
    {
     "name": "stdout",
     "output_type": "stream",
     "text": [
      "3\n",
      "0\n",
      "2\n",
      "2\n",
      "1\n"
     ]
    }
   ],
   "source": [
    "random.seed(12345)  # Semilla para el mecanismo de generación de números aleatorios\n",
    "for _ in range(5):\n",
    "    print(caja_de_herramientas.gen())"
   ]
  },
  {
   "cell_type": "code",
   "execution_count": 50,
   "metadata": {},
   "outputs": [],
   "source": [
    "# La longitud de nuestro ejercicio es M * N, M capas con N puertas cada una.\n",
    "# Vamos, haciendo uso de la función initRepeat, a generar una población de m\n",
    "# capas con n puertas cada una. "
   ]
  },
  {
   "cell_type": "code",
   "execution_count": 51,
   "metadata": {},
   "outputs": [],
   "source": [
    "caja_de_herramientas.register('individuo', tools.initRepeat,\n",
    "                              container=creator.Individuo, func=caja_de_herramientas.gen, n=10)"
   ]
  },
  {
   "cell_type": "code",
   "execution_count": 52,
   "metadata": {},
   "outputs": [
    {
     "data": {
      "text/plain": [
       "[3, 0, 2, 2, 1, 2, 4, 3, 1, 2]"
      ]
     },
     "execution_count": 52,
     "metadata": {},
     "output_type": "execute_result"
    }
   ],
   "source": [
    "random.seed(12345)\n",
    "caja_de_herramientas.individuo()"
   ]
  },
  {
   "cell_type": "code",
   "execution_count": 53,
   "metadata": {},
   "outputs": [],
   "source": [
    "# Vamos a considerar una población de 10 inidividuos (puertas). Haciendo uso\n",
    "# de nuevo de la función initRepeat podemos registrar en la caja de herramientas\n",
    "# una función población que devuelve una población aleatoria."
   ]
  },
  {
   "cell_type": "code",
   "execution_count": 54,
   "metadata": {},
   "outputs": [],
   "source": [
    "caja_de_herramientas.register('población', tools.initRepeat,\n",
    "                              container=list, func=caja_de_herramientas.individuo, n=10)"
   ]
  },
  {
   "cell_type": "code",
   "execution_count": 61,
   "metadata": {},
   "outputs": [],
   "source": [
    "random.seed(12345)\n",
    "circuito_esperado = caja_de_herramientas.población()"
   ]
  },
  {
   "cell_type": "code",
   "execution_count": 62,
   "metadata": {},
   "outputs": [
    {
     "data": {
      "text/plain": [
       "[[3, 0, 2, 2, 1, 2, 4, 3, 1, 2],\n",
       " [0, 3, 2, 4, 1, 4, 4, 1, 2, 0],\n",
       " [4, 3, 4, 4, 1, 1, 1, 0, 1, 2],\n",
       " [2, 0, 3, 2, 0, 4, 3, 0, 0, 1],\n",
       " [4, 1, 2, 0, 3, 0, 4, 1, 3, 1],\n",
       " [4, 4, 2, 0, 1, 0, 3, 1, 4, 1],\n",
       " [2, 4, 3, 4, 1, 0, 1, 2, 0, 1],\n",
       " [1, 2, 4, 2, 1, 3, 2, 0, 0, 0],\n",
       " [3, 0, 3, 1, 0, 2, 1, 4, 0, 3],\n",
       " [4, 0, 0, 3, 2, 4, 3, 4, 1, 2]]"
      ]
     },
     "execution_count": 62,
     "metadata": {},
     "output_type": "execute_result"
    }
   ],
   "source": [
    "circuito_esperado"
   ]
  },
  {
   "cell_type": "code",
   "execution_count": null,
   "metadata": {},
   "outputs": [],
   "source": []
  },
  {
   "cell_type": "code",
   "execution_count": null,
   "metadata": {},
   "outputs": [],
   "source": []
  },
  {
   "cell_type": "code",
   "execution_count": null,
   "metadata": {},
   "outputs": [],
   "source": []
  },
  {
   "cell_type": "code",
   "execution_count": null,
   "metadata": {},
   "outputs": [],
   "source": []
  },
  {
   "cell_type": "code",
   "execution_count": null,
   "metadata": {},
   "outputs": [],
   "source": []
  },
  {
   "cell_type": "code",
   "execution_count": null,
   "metadata": {},
   "outputs": [],
   "source": []
  },
  {
   "cell_type": "code",
   "execution_count": null,
   "metadata": {},
   "outputs": [],
   "source": []
  },
  {
   "cell_type": "code",
   "execution_count": null,
   "metadata": {},
   "outputs": [],
   "source": []
  },
  {
   "cell_type": "code",
   "execution_count": null,
   "metadata": {},
   "outputs": [],
   "source": []
  },
  {
   "cell_type": "code",
   "execution_count": null,
   "metadata": {},
   "outputs": [],
   "source": []
  },
  {
   "cell_type": "code",
   "execution_count": null,
   "metadata": {},
   "outputs": [],
   "source": []
  },
  {
   "cell_type": "code",
   "execution_count": null,
   "metadata": {},
   "outputs": [],
   "source": []
  },
  {
   "cell_type": "code",
   "execution_count": null,
   "metadata": {},
   "outputs": [],
   "source": []
  },
  {
   "cell_type": "code",
   "execution_count": null,
   "metadata": {},
   "outputs": [],
   "source": []
  },
  {
   "cell_type": "code",
   "execution_count": null,
   "metadata": {},
   "outputs": [],
   "source": []
  }
 ],
 "metadata": {
  "kernelspec": {
   "display_name": "Python 3",
   "language": "python",
   "name": "python3"
  },
  "language_info": {
   "codemirror_mode": {
    "name": "ipython",
    "version": 3
   },
   "file_extension": ".py",
   "mimetype": "text/x-python",
   "name": "python",
   "nbconvert_exporter": "python",
   "pygments_lexer": "ipython3",
   "version": "3.6.4"
  }
 },
 "nbformat": 4,
 "nbformat_minor": 2
}
