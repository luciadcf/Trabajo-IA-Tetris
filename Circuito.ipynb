{
 "cells": [
  {
   "cell_type": "code",
   "execution_count": 3,
   "metadata": {},
   "outputs": [],
   "source": [
    "#Importing necessary modules \n",
    "import random\n",
    "from deap import base, creator, tools, algorithms\n",
    "import numpy\n",
    "import math"
   ]
  },
  {
   "cell_type": "code",
   "execution_count": 81,
   "metadata": {},
   "outputs": [],
   "source": [
    "# Empezamos por declarar el fitness de cada individuo: Si es un problema\n",
    "# de maximización el valor del atributo weights es 1, si por el contrario\n",
    "# el problema es de minimización el valor es -1.\n",
    "# Consideramos que nuestro objetivo es reducir al mínimo el número de errores\n",
    "# que contenga el circuito.\n"
   ]
  },
  {
   "cell_type": "code",
   "execution_count": 17,
   "metadata": {},
   "outputs": [
    {
     "name": "stderr",
     "output_type": "stream",
     "text": [
      "D:\\Program Files\\Anaconda3\\lib\\site-packages\\deap\\creator.py:141: RuntimeWarning: A class named 'Fitness' has already been created and it will be overwritten. Consider deleting previous creation of that class or rename it.\n",
      "  RuntimeWarning)\n"
     ]
    }
   ],
   "source": [
    "creator.create('Fitness', base.Fitness, weights=(-1.0,))"
   ]
  },
  {
   "cell_type": "code",
   "execution_count": 5,
   "metadata": {},
   "outputs": [],
   "source": [
    "#Consideramos los individuos del problema como las puertas lógicas."
   ]
  },
  {
   "cell_type": "code",
   "execution_count": 18,
   "metadata": {},
   "outputs": [
    {
     "name": "stderr",
     "output_type": "stream",
     "text": [
      "D:\\Program Files\\Anaconda3\\lib\\site-packages\\deap\\creator.py:141: RuntimeWarning: A class named 'Individuo' has already been created and it will be overwritten. Consider deleting previous creation of that class or rename it.\n",
      "  RuntimeWarning)\n"
     ]
    }
   ],
   "source": [
    "creator.create('Individuo', list, fitness = creator.Fitness)"
   ]
  },
  {
   "cell_type": "code",
   "execution_count": 7,
   "metadata": {},
   "outputs": [],
   "source": [
    "# A continuación debemos de crear la caja de herramienta donde vamos a\n",
    "# registrar los elementos necesarios para poder aplicar el algoritmo genético."
   ]
  },
  {
   "cell_type": "code",
   "execution_count": 19,
   "metadata": {},
   "outputs": [],
   "source": [
    "caja_de_herramientas = base.Toolbox()"
   ]
  },
  {
   "cell_type": "code",
   "execution_count": 20,
   "metadata": {},
   "outputs": [],
   "source": [
    "#Declaramos las puertas lógicas\n",
    "def puerta_or(a,b):\n",
    "    return a+b\n",
    "\n",
    "def puerta_and(a,b):\n",
    "    return a*b\n",
    "\n",
    "def puerta_not(a):\n",
    "    if a==0:\n",
    "        return 1\n",
    "    if a==1:\n",
    "        return 0\n",
    "\n",
    "def puerta_nand(a,b):\n",
    "    if a==0 and b==0:\n",
    "        return 1\n",
    "    elif a==0 and b==1:\n",
    "        return 1\n",
    "    elif a==1 and b==0:\n",
    "        return 1\n",
    "    elif a==1 and b==1:\n",
    "        return 0\n",
    "\n",
    "def puerta_xor(a,b):\n",
    "    if a==1 and b==1:\n",
    "        return 0\n",
    "    return a+b"
   ]
  },
  {
   "cell_type": "code",
   "execution_count": 10,
   "metadata": {},
   "outputs": [],
   "source": [
    "# Registramos una función gen que devuelve un número de 0 a 4, los cuales\n",
    "# representan las distintas puertas anteriores puestas en orden."
   ]
  },
  {
   "cell_type": "code",
   "execution_count": 21,
   "metadata": {},
   "outputs": [],
   "source": [
    "caja_de_herramientas.register('gen', random.randint, 0, 5)"
   ]
  },
  {
   "cell_type": "code",
   "execution_count": 12,
   "metadata": {},
   "outputs": [],
   "source": [
    "# Vamos a implementar la posibilidad de elegir libremente los valores del\n",
    "# número de capas y de puertas lógicas"
   ]
  },
  {
   "cell_type": "code",
   "execution_count": 22,
   "metadata": {},
   "outputs": [
    {
     "name": "stdout",
     "output_type": "stream",
     "text": [
      "Numero de capas: 3\n",
      "Numero de puertas: 3\n",
      "Circuito Inicial:\n",
      "3\n",
      "5\n",
      "0\n",
      "2\n",
      "2\n",
      "1\n",
      "2\n",
      "4\n",
      "3\n"
     ]
    }
   ],
   "source": [
    "M = int(input(\"Numero de capas: \"))\n",
    "N = int(input(\"Numero de puertas: \"))\n",
    "#Semilla para la generación de números aleatorios\n",
    "print(\"Circuito Inicial:\")\n",
    "random.seed(12345) \n",
    "for _ in range(M*N):\n",
    "    print(caja_de_herramientas.gen())\n",
    "    "
   ]
  },
  {
   "cell_type": "code",
   "execution_count": 14,
   "metadata": {},
   "outputs": [],
   "source": [
    "# A continuación llamamomos a la funcion individuo que nos genera un individuo\n",
    "# con sus genes. Las conexiones máximas que puede tener una puerta son 3."
   ]
  },
  {
   "cell_type": "code",
   "execution_count": 23,
   "metadata": {},
   "outputs": [],
   "source": [
    "caja_de_herramientas.register('individuo', tools.initRepeat,\n",
    "                              container=creator.Individuo, func=caja_de_herramientas.gen, n=3*(M*N))"
   ]
  },
  {
   "cell_type": "code",
   "execution_count": 24,
   "metadata": {},
   "outputs": [
    {
     "data": {
      "text/plain": [
       "[3,\n",
       " 5,\n",
       " 0,\n",
       " 2,\n",
       " 2,\n",
       " 1,\n",
       " 2,\n",
       " 4,\n",
       " 3,\n",
       " 1,\n",
       " 2,\n",
       " 0,\n",
       " 3,\n",
       " 2,\n",
       " 4,\n",
       " 5,\n",
       " 1,\n",
       " 4,\n",
       " 4,\n",
       " 1,\n",
       " 2,\n",
       " 5,\n",
       " 5,\n",
       " 0,\n",
       " 4,\n",
       " 5,\n",
       " 3]"
      ]
     },
     "execution_count": 24,
     "metadata": {},
     "output_type": "execute_result"
    }
   ],
   "source": [
    "random.seed(12345)\n",
    "caja_de_herramientas.individuo()\n",
    "# El primer gen se asocia al tipo de puerta de la capa, el segundo y el tercero\n",
    "# se asocia al tipo de puerta del que recibe señal"
   ]
  },
  {
   "cell_type": "code",
   "execution_count": 17,
   "metadata": {},
   "outputs": [],
   "source": [
    "# Consideramos una población como una lista de 10 individuos"
   ]
  },
  {
   "cell_type": "code",
   "execution_count": 26,
   "metadata": {},
   "outputs": [],
   "source": [
    "caja_de_herramientas.register('población', tools.initRepeat,\n",
    "                              container=list, func=caja_de_herramientas.individuo, n=10)"
   ]
  },
  {
   "cell_type": "code",
   "execution_count": 27,
   "metadata": {},
   "outputs": [
    {
     "data": {
      "text/plain": [
       "[[3,\n",
       "  5,\n",
       "  0,\n",
       "  2,\n",
       "  2,\n",
       "  1,\n",
       "  2,\n",
       "  4,\n",
       "  3,\n",
       "  1,\n",
       "  2,\n",
       "  0,\n",
       "  3,\n",
       "  2,\n",
       "  4,\n",
       "  5,\n",
       "  1,\n",
       "  4,\n",
       "  4,\n",
       "  1,\n",
       "  2,\n",
       "  5,\n",
       "  5,\n",
       "  0,\n",
       "  4,\n",
       "  5,\n",
       "  3],\n",
       " [4,\n",
       "  4,\n",
       "  1,\n",
       "  1,\n",
       "  1,\n",
       "  5,\n",
       "  0,\n",
       "  1,\n",
       "  2,\n",
       "  2,\n",
       "  0,\n",
       "  3,\n",
       "  2,\n",
       "  0,\n",
       "  4,\n",
       "  5,\n",
       "  5,\n",
       "  3,\n",
       "  0,\n",
       "  0,\n",
       "  5,\n",
       "  1,\n",
       "  4,\n",
       "  1,\n",
       "  2,\n",
       "  0,\n",
       "  5],\n",
       " [3,\n",
       "  0,\n",
       "  5,\n",
       "  4,\n",
       "  1,\n",
       "  5,\n",
       "  3,\n",
       "  1,\n",
       "  4,\n",
       "  4,\n",
       "  5,\n",
       "  2,\n",
       "  0,\n",
       "  1,\n",
       "  0,\n",
       "  3,\n",
       "  1,\n",
       "  5,\n",
       "  4,\n",
       "  5,\n",
       "  1,\n",
       "  2,\n",
       "  4,\n",
       "  3,\n",
       "  4,\n",
       "  1,\n",
       "  0],\n",
       " [1,\n",
       "  2,\n",
       "  0,\n",
       "  1,\n",
       "  1,\n",
       "  2,\n",
       "  4,\n",
       "  2,\n",
       "  1,\n",
       "  3,\n",
       "  2,\n",
       "  0,\n",
       "  0,\n",
       "  0,\n",
       "  5,\n",
       "  3,\n",
       "  0,\n",
       "  3,\n",
       "  1,\n",
       "  0,\n",
       "  5,\n",
       "  2,\n",
       "  1,\n",
       "  5,\n",
       "  4,\n",
       "  0,\n",
       "  3],\n",
       " [4,\n",
       "  0,\n",
       "  0,\n",
       "  5,\n",
       "  3,\n",
       "  2,\n",
       "  4,\n",
       "  3,\n",
       "  4,\n",
       "  1,\n",
       "  2,\n",
       "  5,\n",
       "  5,\n",
       "  0,\n",
       "  4,\n",
       "  1,\n",
       "  0,\n",
       "  3,\n",
       "  1,\n",
       "  2,\n",
       "  1,\n",
       "  1,\n",
       "  1,\n",
       "  1,\n",
       "  2,\n",
       "  1,\n",
       "  4],\n",
       " [0,\n",
       "  4,\n",
       "  5,\n",
       "  0,\n",
       "  1,\n",
       "  0,\n",
       "  5,\n",
       "  3,\n",
       "  1,\n",
       "  4,\n",
       "  0,\n",
       "  2,\n",
       "  4,\n",
       "  3,\n",
       "  0,\n",
       "  3,\n",
       "  3,\n",
       "  1,\n",
       "  1,\n",
       "  1,\n",
       "  0,\n",
       "  2,\n",
       "  2,\n",
       "  1,\n",
       "  3,\n",
       "  1,\n",
       "  1],\n",
       " [4,\n",
       "  5,\n",
       "  4,\n",
       "  1,\n",
       "  3,\n",
       "  4,\n",
       "  5,\n",
       "  3,\n",
       "  2,\n",
       "  0,\n",
       "  0,\n",
       "  5,\n",
       "  3,\n",
       "  5,\n",
       "  1,\n",
       "  5,\n",
       "  4,\n",
       "  4,\n",
       "  1,\n",
       "  5,\n",
       "  1,\n",
       "  4,\n",
       "  1,\n",
       "  2,\n",
       "  4,\n",
       "  2,\n",
       "  1],\n",
       " [4,\n",
       "  4,\n",
       "  5,\n",
       "  5,\n",
       "  0,\n",
       "  2,\n",
       "  3,\n",
       "  0,\n",
       "  2,\n",
       "  4,\n",
       "  4,\n",
       "  4,\n",
       "  0,\n",
       "  5,\n",
       "  0,\n",
       "  1,\n",
       "  2,\n",
       "  5,\n",
       "  5,\n",
       "  0,\n",
       "  2,\n",
       "  5,\n",
       "  3,\n",
       "  5,\n",
       "  2,\n",
       "  3,\n",
       "  2],\n",
       " [3,\n",
       "  4,\n",
       "  2,\n",
       "  2,\n",
       "  5,\n",
       "  3,\n",
       "  3,\n",
       "  0,\n",
       "  2,\n",
       "  3,\n",
       "  0,\n",
       "  1,\n",
       "  2,\n",
       "  1,\n",
       "  0,\n",
       "  5,\n",
       "  5,\n",
       "  0,\n",
       "  0,\n",
       "  0,\n",
       "  4,\n",
       "  1,\n",
       "  3,\n",
       "  3,\n",
       "  1,\n",
       "  2,\n",
       "  2],\n",
       " [1,\n",
       "  2,\n",
       "  5,\n",
       "  2,\n",
       "  3,\n",
       "  0,\n",
       "  4,\n",
       "  2,\n",
       "  2,\n",
       "  0,\n",
       "  3,\n",
       "  1,\n",
       "  1,\n",
       "  0,\n",
       "  1,\n",
       "  2,\n",
       "  1,\n",
       "  2,\n",
       "  3,\n",
       "  1,\n",
       "  0,\n",
       "  1,\n",
       "  0,\n",
       "  4,\n",
       "  0,\n",
       "  2,\n",
       "  3]]"
      ]
     },
     "execution_count": 27,
     "metadata": {},
     "output_type": "execute_result"
    }
   ],
   "source": [
    "random.seed(12345)\n",
    "caja_de_herramientas.población()"
   ]
  },
  {
   "cell_type": "code",
   "execution_count": 28,
   "metadata": {},
   "outputs": [],
   "source": [
    "# Como cada puerta tiene 2 entradas, el número de valores de entrada es \n",
    "# el doble del número de puertas"
   ]
  },
  {
   "cell_type": "code",
   "execution_count": 29,
   "metadata": {},
   "outputs": [],
   "source": [
    "ValoresEntrada = numpy.empty(N*2, dtype=object)"
   ]
  },
  {
   "cell_type": "code",
   "execution_count": 30,
   "metadata": {},
   "outputs": [],
   "source": [
    "def decode(individuo, ValoresEntrada):\n",
    "    Puertas_Logicas=[]\n",
    "    Salida_Esperada=[]\n",
    "    Entradas1=[]\n",
    "    Entradas2=[]\n",
    "    a = 0\n",
    "    b = 0\n",
    "    \n",
    "    for i in range(0,len(individuo)):\n",
    "        if(i%3==0):\n",
    "            Puertas_Logicas.append(individuo[i])\n",
    "        elif(i%3==1):\n",
    "            Entradas1.append(individuo[i])\n",
    "        elif(i%3==2):\n",
    "            Entradas2.append(individuo[i])\n",
    "    print(Puertas_Logicas,Entradas1,Entradas2)\n",
    "    \n",
    "    #primera capa de 3*3-> 9 genes 3 capas\n",
    "    individuo[1]=0 #con esto tenemos la primera capa con valores iniciales\n",
    "    individuo[2]=0\n",
    "    individuo[4]=0\n",
    "    individuo[5]=0\n",
    "    individuo[7]=0\n",
    "    individuo[8]=0\n",
    "    \n",
    "    for i in range(0,9):\n",
    "        if(i%3==0):\n",
    "            Puertas.append(individuo[i])\n",
    "        elif(i%3==1):\n",
    "            a = individuo[i]\n",
    "        elif(i%3==2):\n",
    "            b = individuo[i]\n",
    "    \n",
    "    Salida_Esperada.append(calculaSalida(a,b,individuo,Puertas))\n",
    "    # por cada capa un bucle y voy metiendo el resultado de la anterior capa \n",
    "    # y la otra anterior \n",
    "    for i in range(10,19):\n",
    "        if(i%3==1):\n",
    "                a=individuo[i] \n",
    "        elif(i%3==2):\n",
    "                b=individuo[i]\n",
    "                \n",
    "    Salidas_Capas_Anteriores = [Salida_Esperada[0],Salida_Esperada[1],\n",
    "                               Salida_Esperada[2],Salida_Esperada[4],\n",
    "                               Salida_Esperada[5],Salida_Esperada[6]]\n",
    "    for i in range(20,28): #indice de la puerta es la salida de esa puerta\n",
    "       # y si hacemos cada dos capas anteriores un array, \n",
    "       # y ese array el indice es la posicion relativa de las entradas\n",
    "       # array de tamaño 6 ahi va la salida de las 3 puertas anteriores \n",
    "       #y las otras 3 puertas anteriores \n",
    "        if(SalidasCapasAnteriores.append(i)==individuo[i]):\n",
    "            if(i%3==1):\n",
    "                    a=Salida_Esperada[i]\n",
    "            elif(i%3==2):\n",
    "                    b=Salida_Esperada[i]\n",
    "            #deberia de devolver de ResultadoSalida \n",
    "            #la salida dela ultima capa \n",
    "    return(Salida_Esperada,Puertas)#puerta 0->indice 0->salida de esa puerta "
   ]
  },
  {
   "cell_type": "code",
   "execution_count": 31,
   "metadata": {},
   "outputs": [],
   "source": [
    "#calculo de las salidas de la puerta al tener elvalor de las entradas \n",
    "#ahora me hace falta contemplar el tipo de puertas y las conexiones de\n",
    "#las entradas."
   ]
  },
  {
   "cell_type": "code",
   "execution_count": 32,
   "metadata": {},
   "outputs": [],
   "source": [
    "def calculaSalidaNot(a):\n",
    "    c=operator.not_(a)\n",
    "    if(c==True):\n",
    "        c=1\n",
    "    elif(c==False):\n",
    "        c=0    \n",
    "    return c\n",
    "\n",
    "def calculaSalidaNot(b):\n",
    "    c=operator.not_(b)\n",
    "    if(c==True):\n",
    "        c=1\n",
    "    elif(c==False):\n",
    "        c=0    \n",
    "    return c"
   ]
  },
  {
   "cell_type": "code",
   "execution_count": 26,
   "metadata": {},
   "outputs": [],
   "source": [
    "#funcion auxiliar calculo salida, tabla de verdad.\n",
    "def calculaSalida(a, b, individuo,Puertas):\n",
    "    c=0\n",
    "    for i in range(0,len(Puertas)):\n",
    "        if(i%3==0):\n",
    "            if(i==1):#AND\n",
    "                c=operator.and_(a, b)#funciona\n",
    "            elif(i==2):#OR\n",
    "                c=operator.or_(a, b) #funciona\n",
    "            elif(i==3):#XOR\n",
    "                c=operator.xor(a, b)#funciona\n",
    "            elif(i==4):#NAND\n",
    "                c=operator.not_(operator.and_(a,b) ) #funciona\n",
    "                if(c==True):\n",
    "                    c=1\n",
    "                elif(c==False):\n",
    "                    c=0\n",
    "            elif(i==5):#NOT Funciona\n",
    "                if(not a == None ):\n",
    "                    calculaSalidaNot(a)\n",
    "                elif(not b == None ):\n",
    "                    calculaSalidaNot(b)\n",
    "            elif(i==6):#desactivada\n",
    "                c=0\n",
    "    return c"
   ]
  },
  {
   "cell_type": "code",
   "execution_count": null,
   "metadata": {},
   "outputs": [],
   "source": []
  },
  {
   "cell_type": "code",
   "execution_count": null,
   "metadata": {},
   "outputs": [],
   "source": []
  },
  {
   "cell_type": "code",
   "execution_count": null,
   "metadata": {},
   "outputs": [],
   "source": []
  },
  {
   "cell_type": "code",
   "execution_count": null,
   "metadata": {},
   "outputs": [],
   "source": []
  },
  {
   "cell_type": "code",
   "execution_count": null,
   "metadata": {},
   "outputs": [],
   "source": []
  },
  {
   "cell_type": "code",
   "execution_count": null,
   "metadata": {},
   "outputs": [],
   "source": []
  },
  {
   "cell_type": "code",
   "execution_count": null,
   "metadata": {},
   "outputs": [],
   "source": []
  },
  {
   "cell_type": "code",
   "execution_count": null,
   "metadata": {},
   "outputs": [],
   "source": []
  },
  {
   "cell_type": "code",
   "execution_count": null,
   "metadata": {},
   "outputs": [],
   "source": []
  }
 ],
 "metadata": {
  "kernelspec": {
   "display_name": "Python 3",
   "language": "python",
   "name": "python3"
  },
  "language_info": {
   "codemirror_mode": {
    "name": "ipython",
    "version": 3
   },
   "file_extension": ".py",
   "mimetype": "text/x-python",
   "name": "python",
   "nbconvert_exporter": "python",
   "pygments_lexer": "ipython3",
   "version": "3.6.4"
  }
 },
 "nbformat": 4,
 "nbformat_minor": 2
}
