{
 "cells": [
  {
   "cell_type": "code",
   "execution_count": 7,
   "metadata": {},
   "outputs": [],
   "source": [
    "#Importing necessary modules \n",
    "import random\n",
    "from deap import base, creator, tools, algorithms\n",
    "import numpy\n",
    "import math"
   ]
  },
  {
   "cell_type": "code",
   "execution_count": null,
   "metadata": {},
   "outputs": [],
   "source": [
    "# Empezamos por declarar el fitness de cada individuo: Si es un problema\n",
    "# de maximización el valor del atributo weights es 1, si por el contrario\n",
    "# el problema es de minimización el valor es -1.\n",
    "# Consideramos que nuestro objetivo es reducir al mínimo el número de errores\n",
    "# que contenga el circuito.\n"
   ]
  },
  {
   "cell_type": "code",
   "execution_count": 8,
   "metadata": {},
   "outputs": [],
   "source": [
    "creator.create('Fitness', base.Fitness, weights=(-1.0,))"
   ]
  },
  {
   "cell_type": "code",
   "execution_count": 9,
   "metadata": {},
   "outputs": [],
   "source": [
    "#Consideramos los individuos del problema como las puertas lógicas."
   ]
  },
  {
   "cell_type": "code",
   "execution_count": 10,
   "metadata": {},
   "outputs": [],
   "source": [
    "creator.create('Individuo', list, fitness = creator.Fitness)"
   ]
  },
  {
   "cell_type": "code",
   "execution_count": null,
   "metadata": {},
   "outputs": [],
   "source": [
    "# A continuación debemos de crear la caja de herramienta donde vamos a\n",
    "# registrar los elementos necesarios para poder aplicar el algoritmo genético."
   ]
  },
  {
   "cell_type": "code",
   "execution_count": 11,
   "metadata": {},
   "outputs": [],
   "source": [
    "caja_de_herramientas = base.Toolbox()"
   ]
  },
  {
   "cell_type": "code",
   "execution_count": 18,
   "metadata": {},
   "outputs": [],
   "source": [
    "#Declaramos las puertas lógicas\n",
    "def puerta_or(a,b):\n",
    "    return a+b\n",
    "\n",
    "def puerta_and(a,b):\n",
    "    return a*b\n",
    "\n",
    "def puerta_not(a):\n",
    "    if a==0:\n",
    "        return 1\n",
    "    if a==1:\n",
    "        return 0\n",
    "\n",
    "def puerta_nand(a,b):\n",
    "    if a==0 and b==0:\n",
    "        return 1\n",
    "    elif a==0 and b==1:\n",
    "        return 1\n",
    "    elif a==1 and b==0:\n",
    "        return 1\n",
    "    elif a==1 and b==1:\n",
    "        return 0\n",
    "\n",
    "def puerta_xor(a,b):\n",
    "    if a==1 and b==1:\n",
    "        return 0\n",
    "    return a+b"
   ]
  },
  {
   "cell_type": "code",
   "execution_count": 17,
   "metadata": {},
   "outputs": [
    {
     "data": {
      "text/plain": [
       "0"
      ]
     },
     "execution_count": 17,
     "metadata": {},
     "output_type": "execute_result"
    }
   ],
   "source": []
  },
  {
   "cell_type": "code",
   "execution_count": null,
   "metadata": {},
   "outputs": [],
   "source": []
  },
  {
   "cell_type": "code",
   "execution_count": null,
   "metadata": {},
   "outputs": [],
   "source": []
  },
  {
   "cell_type": "code",
   "execution_count": null,
   "metadata": {},
   "outputs": [],
   "source": []
  },
  {
   "cell_type": "code",
   "execution_count": null,
   "metadata": {},
   "outputs": [],
   "source": []
  },
  {
   "cell_type": "code",
   "execution_count": null,
   "metadata": {},
   "outputs": [],
   "source": []
  }
 ],
 "metadata": {
  "kernelspec": {
   "display_name": "Python 3",
   "language": "python",
   "name": "python3"
  },
  "language_info": {
   "codemirror_mode": {
    "name": "ipython",
    "version": 3
   },
   "file_extension": ".py",
   "mimetype": "text/x-python",
   "name": "python",
   "nbconvert_exporter": "python",
   "pygments_lexer": "ipython3",
   "version": "3.6.4"
  }
 },
 "nbformat": 4,
 "nbformat_minor": 2
}
