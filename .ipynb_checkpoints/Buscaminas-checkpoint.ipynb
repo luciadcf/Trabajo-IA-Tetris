{
 "cells": [
  {
   "cell_type": "code",
   "execution_count": 1,
   "metadata": {},
   "outputs": [],
   "source": [
    "import random\n",
    "import networkx  \n",
    "import pgmpy.models as pgmm  \n",
    "import pgmpy.factors.discrete as pgmf              \n",
    "import pgmpy.inference as pgmi\n",
    "import random\n",
    "import numpy\n",
    "import emoji\n",
    "\n",
    "mina = emoji.emojize(':skull:')\n",
    "casilla_sin_pulsar = emoji.emojize(':white_large_square:')"
   ]
  },
  {
   "cell_type": "code",
   "execution_count": 2,
   "metadata": {},
   "outputs": [],
   "source": [
    "#Entrada de datos del buscaminas\n",
    "filas = 5\n",
    "columnas = 5\n",
    "minas = 10"
   ]
  },
  {
   "cell_type": "code",
   "execution_count": 3,
   "metadata": {},
   "outputs": [],
   "source": [
    "# Ahora, debemos de crear el tablero del juego, el cual dependerá del numero de filas, columnas y minas\n",
    "def tablero_buscaminas(filas, columnas, minas):\n",
    "    # Antes de nada, se debe de comprobar que el número de minas existente en el tablero sea menor o igual al número de casillas\n",
    "    if(minas > filas * columnas):\n",
    "        raise Exception (\"El número de minas debe ser menor o igual a\" + filas*columnas)\n",
    "        \n",
    "    # A continuación se pasa a construir el tablero\n",
    "    tableroBuscaminas = [[0 for x in range(filas)] for y in range(columnas)]\n",
    "    \n",
    "    # Vamos a pintar las minas. Recorremos el número de minas que queremos pintar y en el tablero mostramos \"X\" que indica\n",
    "    # que en esa casilla existe una mina.\n",
    "    for i in range(minas):\n",
    "        tableroBuscaminas[random.randint(0,filas-1)][random.randint(0,columnas-1)] = mina\n",
    "        \n",
    "    # Ahora pasamos a poner los índices de las casillas colindantes con minas. El número que aparece en la casilla va en un\n",
    "    # rango de 1 a 8 (arriba, abajo, izquierda, derecha y las 4 diagonales).\n",
    "    minas_colindantes = 0\n",
    "    for fila in range(filas):\n",
    "        for columna in range(columnas):\n",
    "            if(fila > 0 and tableroBuscaminas[fila-1][columna] == mina): # La mina se encuentra arriba\n",
    "                minas_colindantes += 1\n",
    "            if(fila +1 < len(tableroBuscaminas) and tableroBuscaminas[fila+1][columna] == mina): # La mina se encuentra abajo\n",
    "                minas_colindantes +=1\n",
    "            if(columna+1 < len(tableroBuscaminas[0]) and tableroBuscaminas[fila][columna+1] == mina):\n",
    "                # La mina se encuentra a la derecha\n",
    "                minas_colindantes +=1\n",
    "            if(columna > 0 and tableroBuscaminas[fila][columna-1] == mina): # La mina se encuentra a la izquierda\n",
    "                minas_colindantes +=1\n",
    "            if(fila > 0 and columna+1 < len(tableroBuscaminas[0]) and tableroBuscaminas[fila-1][columna+1] == mina):\n",
    "                # La mina se encuentra en la diagonal superior derecha\n",
    "                minas_colindantes +=1\n",
    "            if(fila+1 < len(tableroBuscaminas) and columna+1 < len(tableroBuscaminas[0]) and \n",
    "                   tableroBuscaminas[fila+1][columna+1] == mina): \n",
    "                # La mina se encuentra en la diagonal inferior derecha\n",
    "                minas_colindantes +=1\n",
    "            if(fila > 0 and columna > 0 and tableroBuscaminas[fila-1][columna-1] == mina):\n",
    "                # La mina se encuentra en la diagonal superior izquierda\n",
    "                minas_colindantes +=1\n",
    "            if(fila+1 < len(tableroBuscaminas) and columna > 0 and tableroBuscaminas[fila+1][columna-1] == mina): \n",
    "                # La mina se encuentra en la diagonal inferior izquierda\n",
    "                minas_colindantes +=1\n",
    "            # Pasamos a guardar el índice de minas colindantes en la casilla del tablero donde no hay ninguna mina.\n",
    "            if(minas_colindantes > 0 and tableroBuscaminas[fila][columna] != mina ):\n",
    "                tableroBuscaminas[fila][columna] = str(minas_colindantes)\n",
    "            minas_colindantes=0\n",
    "            \n",
    "    return tableroBuscaminas\n",
    "    \n",
    "    \n",
    "    \n",
    "    "
   ]
  },
  {
   "cell_type": "code",
   "execution_count": 4,
   "metadata": {},
   "outputs": [
    {
     "name": "stdout",
     "output_type": "stream",
     "text": [
      "[['💀' '2' '💀' '💀' '1']\n",
      " ['2' '4' '4' '4' '2']\n",
      " ['1' '💀' '💀' '3' '💀']\n",
      " ['2' '3' '3' '3' '💀']\n",
      " ['1' '💀' '1' '1' '1']]\n"
     ]
    }
   ],
   "source": [
    "# Prueba de creación del tablero con los parámetros indicados\n",
    "tableroBuscaminas = tablero_buscaminas(filas,columnas,minas)\n",
    "# Para decirle que es un array y que salg\n",
    "print(numpy.array(tableroBuscaminas))"
   ]
  },
  {
   "cell_type": "code",
   "execution_count": 5,
   "metadata": {},
   "outputs": [],
   "source": [
    "# Pasamos a ocultar las casillas del tablero, se determina que dichas casillas ocultas se muestran con el símbolo \"O\"\n",
    "def ocultar_casillas_tablero(filas,columnas):\n",
    "    tablero_buscaminas_oculto = [[casilla_sin_pulsar for columna in range(columnas)] for fila in range(filas)]\n",
    "        \n",
    "    return tablero_buscaminas_oculto"
   ]
  },
  {
   "cell_type": "code",
   "execution_count": 6,
   "metadata": {},
   "outputs": [
    {
     "name": "stdout",
     "output_type": "stream",
     "text": [
      "[['⬜' '⬜' '⬜' '⬜' '⬜']\n",
      " ['⬜' '⬜' '⬜' '⬜' '⬜']\n",
      " ['⬜' '⬜' '⬜' '⬜' '⬜']\n",
      " ['⬜' '⬜' '⬜' '⬜' '⬜']\n",
      " ['⬜' '⬜' '⬜' '⬜' '⬜']]\n"
     ]
    }
   ],
   "source": [
    "# Prueba de ocultación del tablero\n",
    "tablero_buscaminas_oculto = ocultar_casillas_tablero(filas,columnas)\n",
    "print(numpy.array(tablero_buscaminas_oculto))"
   ]
  },
  {
   "cell_type": "code",
   "execution_count": 7,
   "metadata": {},
   "outputs": [],
   "source": [
    "# Vamos ahora a destapar las casillas del tablero. Al clicar sobre una casilla que no contiene una mina, se van a destapar un\n",
    "# conjunto colindante de casillas que no tienen minas ni están proximas con otras, es decir, con índice = 0. Como máximo,\n",
    "# el límite del destapado va a ser si la casilla que se destapa tiene al menos un vecino con mina.\n",
    "def destapar_casillas_tablero(fila,columna):\n",
    "    # Guardo el valor de la casilla en la que hacemos click\n",
    "    casillaDestapada = tableroBuscaminas[fila][columna]\n",
    "    # Guardamos en una variable la longitud del tablero para optimizar código\n",
    "    longitudTablero = len(tablero_buscaminas_oculto)\n",
    "    \n",
    "    # Si la casilla pulsada es una mina:\n",
    "    if(casillaDestapada == mina):\n",
    "        print(numpy.array(tableroBuscaminas))\n",
    "        raise Exception(\"Has encontrado una mina. Has perdido\")\n",
    "    # Si no lo es, cambiamos su valor en el tablero oculto por el valor de la casilla destapada\n",
    "    else:\n",
    "        tablero_buscaminas_oculto[fila][columna] = casillaDestapada\n",
    "        \n",
    "    if(casillaDestapada == 0): #Comprobamos si la casilla que destapamos tiene 0 minas colindantes\n",
    "        # si se da el caso, destapamos todas las casillas colindantes a la seleccionada ya que sabemos que ninguna es una mina\n",
    "        # se comprueba que las colindantes estén dentro del tablero\n",
    "        if((fila-1)>=0):\n",
    "            destapar_casillas_tablero(fila-1,columna)\n",
    "        if((fila+1)< longitudTablero):\n",
    "            destapar_casillas_tablero(fila+1,columna)\n",
    "        if((columna+1)< longitudTablero):\n",
    "            destapar_casillas_tablero(fila,columna+1)\n",
    "        if((columna-1)>=0):\n",
    "            destapar_casillas_tablero(fila,columna-1)\n",
    "        if((fila-1)>=0 and (columna+1) < longitudTablero):\n",
    "            destapar_casillas_tablero(fila-1,columna+1)\n",
    "        if((fila+1)< longitudTablero and (columna+1)< longitudTablero):\n",
    "            destapar_casillas_tablero(fila+1,columna+1)\n",
    "        if((fila-1)>=0 and (columna-1)>= 0):\n",
    "            destapar_casillas_tablero(fila-1,columna-1)\n",
    "        if((fila+1)< longitudTablero and (columna-1)>=0):\n",
    "            destapar_casillas_tablero(fila+1,columna-1)\n",
    "    \n",
    "    return tablero_buscaminas_oculto        \n",
    "            \n",
    "    \n",
    "            "
   ]
  },
  {
   "cell_type": "code",
   "execution_count": 8,
   "metadata": {},
   "outputs": [
    {
     "name": "stdout",
     "output_type": "stream",
     "text": [
      "[['💀' '2' '💀' '💀' '1']\n",
      " ['2' '4' '4' '4' '2']\n",
      " ['1' '💀' '💀' '3' '💀']\n",
      " ['2' '3' '3' '3' '💀']\n",
      " ['1' '💀' '1' '1' '1']]\n"
     ]
    },
    {
     "ename": "Exception",
     "evalue": "Has encontrado una mina. Has perdido",
     "output_type": "error",
     "traceback": [
      "\u001b[1;31m---------------------------------------------------------------------------\u001b[0m",
      "\u001b[1;31mException\u001b[0m                                 Traceback (most recent call last)",
      "\u001b[1;32m<ipython-input-8-eed26076139f>\u001b[0m in \u001b[0;36m<module>\u001b[1;34m()\u001b[0m\n\u001b[0;32m      1\u001b[0m \u001b[1;31m# Vamos a probar ahora el destapado de una casilla\u001b[0m\u001b[1;33m\u001b[0m\u001b[1;33m\u001b[0m\u001b[0m\n\u001b[1;32m----> 2\u001b[1;33m \u001b[0mdestapar_casillas_tablero\u001b[0m\u001b[1;33m(\u001b[0m\u001b[1;36m2\u001b[0m\u001b[1;33m,\u001b[0m\u001b[1;36m4\u001b[0m\u001b[1;33m)\u001b[0m\u001b[1;33m\u001b[0m\u001b[0m\n\u001b[0m",
      "\u001b[1;32m<ipython-input-7-2250ca23dae5>\u001b[0m in \u001b[0;36mdestapar_casillas_tablero\u001b[1;34m(fila, columna)\u001b[0m\n\u001b[0;32m     11\u001b[0m     \u001b[1;32mif\u001b[0m\u001b[1;33m(\u001b[0m\u001b[0mcasillaDestapada\u001b[0m \u001b[1;33m==\u001b[0m \u001b[0mmina\u001b[0m\u001b[1;33m)\u001b[0m\u001b[1;33m:\u001b[0m\u001b[1;33m\u001b[0m\u001b[0m\n\u001b[0;32m     12\u001b[0m         \u001b[0mprint\u001b[0m\u001b[1;33m(\u001b[0m\u001b[0mnumpy\u001b[0m\u001b[1;33m.\u001b[0m\u001b[0marray\u001b[0m\u001b[1;33m(\u001b[0m\u001b[0mtableroBuscaminas\u001b[0m\u001b[1;33m)\u001b[0m\u001b[1;33m)\u001b[0m\u001b[1;33m\u001b[0m\u001b[0m\n\u001b[1;32m---> 13\u001b[1;33m         \u001b[1;32mraise\u001b[0m \u001b[0mException\u001b[0m\u001b[1;33m(\u001b[0m\u001b[1;34m\"Has encontrado una mina. Has perdido\"\u001b[0m\u001b[1;33m)\u001b[0m\u001b[1;33m\u001b[0m\u001b[0m\n\u001b[0m\u001b[0;32m     14\u001b[0m     \u001b[1;31m# Si no lo es, cambiamos su valor en el tablero oculto por el valor de la casilla destapada\u001b[0m\u001b[1;33m\u001b[0m\u001b[1;33m\u001b[0m\u001b[0m\n\u001b[0;32m     15\u001b[0m     \u001b[1;32melse\u001b[0m\u001b[1;33m:\u001b[0m\u001b[1;33m\u001b[0m\u001b[0m\n",
      "\u001b[1;31mException\u001b[0m: Has encontrado una mina. Has perdido"
     ]
    }
   ],
   "source": [
    "# Vamos a probar ahora el destapado de una casilla\n",
    "destapar_casillas_tablero(2,4)"
   ]
  },
  {
   "cell_type": "code",
   "execution_count": 14,
   "metadata": {},
   "outputs": [],
   "source": [
    "# Creamos un método para que se muestre los índices de las casillas vecinas a la destapada anteriormente. \n",
    "# Recorre las casillas colindantes a la casillas destapada y devuelve un array con la posición donde busca los indices.\n",
    "\n",
    "\n",
    "def posicion_casillas_vecinas(fila,columna,tableroBuscaminas):\n",
    "    if(tableroBuscaminas[fila][columna] == mina):\n",
    "        raise Exception(\"Has encontrado una mina. Has perdido\")\n",
    "    else:\n",
    "        indicesCasillas = []\n",
    "        if((fila-1)>=0 and columna>=0):\n",
    "            indicesCasillas.append(\"{0}{1}\".format(fila-1, columna))\n",
    "        if((fila+1)< len(tableroBuscaminas) and columna>=0):\n",
    "            indicesCasillas.append(\"{0}{1}\".format(fila+1, columna))\n",
    "        if((fila>=0 and (columna+1) < len(tableroBuscaminas))):\n",
    "            indicesCasillas.append(\"{0}{1}\".format(fila, columna+1))\n",
    "        if(fila>=0 and (columna-1)>=0):\n",
    "            indicesCasillas.append(\"{0}{1}\".format(fila, columna-1))\n",
    "        if(((fila-1)>=0 and (columna+1) < len(tableroBuscaminas))):\n",
    "            indicesCasillas.append(\"{0}{1}\".format(fila-1, columna+1))\n",
    "        if((fila+1)< len(tableroBuscaminas) and (columna+1)< len(tableroBuscaminas)):\n",
    "            indicesCasillas.append(\"{0}{1}\".format(fila+1, columna+1))\n",
    "        if((fila-1)>=0 and (columna-1)>=0):\n",
    "            indicesCasillas.append(\"{0}{1}\".format(fila-1, columna-1))\n",
    "        if((fila+1)< len(tableroBuscaminas) and (columna-1)>=0):\n",
    "            indicesCasillas.append(\"{0}{1}\".format(fila+1, columna-1))\n",
    "    \n",
    "    return indicesCasillas"
   ]
  },
  {
   "cell_type": "code",
   "execution_count": 26,
   "metadata": {},
   "outputs": [
    {
     "data": {
      "text/plain": [
       "['11', '02', '00', '12', '10']"
      ]
     },
     "execution_count": 26,
     "metadata": {},
     "output_type": "execute_result"
    }
   ],
   "source": [
    "# Ejemplo en relación con el anterior en el que se detapa la casilla. Puede servirnos en un futuro\n",
    "posicion_casillas_vecinas(0,1,tableroBuscaminas)"
   ]
  },
  {
   "cell_type": "code",
   "execution_count": 27,
   "metadata": {},
   "outputs": [],
   "source": [
    "def listado_de_minas(tableroBuscaminas):\n",
    "    listado_minas = [] # Vamos a obtener las casillas donde están las minas situadas\n",
    "    for fila in range(filas):\n",
    "        for columna in range(columnas):\n",
    "            if(tableroBuscaminas[fila][columna] == mina):\n",
    "                listado_minas.append('{0},{1}'.format(fila,columna))\n",
    "    return listado_minas\n"
   ]
  },
  {
   "cell_type": "code",
   "execution_count": 28,
   "metadata": {},
   "outputs": [
    {
     "data": {
      "text/plain": [
       "['0,0', '0,2', '0,3', '2,1', '2,2', '2,4', '3,4', '4,1']"
      ]
     },
     "execution_count": 28,
     "metadata": {},
     "output_type": "execute_result"
    }
   ],
   "source": [
    "listado_de_minas(tableroBuscaminas)"
   ]
  },
  {
   "cell_type": "code",
   "execution_count": 32,
   "metadata": {},
   "outputs": [],
   "source": [
    "# Pasamos a crear la red bayesiana\n",
    "def red_bayesiana(filas,columnas,tableroBuscaminas):\n",
    "    Buscaminas_bayesiano = pgmm.BayesianModel()\n",
    "    \"\"\"En primer lugar, debemos de crear los nodos de la red bayesiana,\n",
    "    los cuales hay tantos como variable aleatorias haya. En este caso,\n",
    "    va a haber dos: X e Y\n",
    "    X: presencia de una mina en una casilla. [True,False]\n",
    "    Y: cantidad de minas que hay en la casilla destapada [0-8], depende\n",
    "    del número de variables colindantes X\"\"\"\n",
    "    \n",
    "    x_totales = [] # casillas ocultas totales del tablero\n",
    "    x_ocultas = [] # casillas ocultas con vecinos destapados\n",
    "    y_destapadas = []\n",
    "    casilla_oculta_sin_colidantes_destapados = False\n",
    "    \n",
    "    for fila in range(filas):\n",
    "        for columna in range(columnas):\n",
    "            if(tableroBuscaminas[fila][columna] == casilla_sin_pulsar):\n",
    "                x = 'Tapada{0}{1}'.format(fila,columna) # lo pone en formato Tapada (0,1),Tapada (0,2)...\n",
    "                x_totales.append(x) # Va metiendo las casillas sin pulsar (oculta) en la lista de casillas totales ocultas\n",
    "                \n",
    "                casilla_tiene_vecinos_destapados = False\n",
    "                \n",
    "                casillas_vecinas = posicion_casillas_vecinas(fila,columna,tableroBuscaminas) #obtiene la posicion de las casillas vecinas\n",
    "                \n",
    "                for vecino in casillas_vecinas: # Recorro todas las casillas vecinas de la casilla en la que estamos actualmente\n",
    "                    if(tableroBuscaminas[int(vecino[0])][int(vecino[1])] != casilla_sin_pulsar): # comprueba que los vecinos de la casilla estan destapados\n",
    "                        casilla_tiene_vecinos_destapados = True\n",
    "                        break\n",
    "                if(not casilla_oculta_sin_colindantes_destapados or casilla_tiene_vecinos_destapados): # Comprobamos que la casilla actual tiene vecino destapado\n",
    "                    x_ocultas.append(x) # Añadimos la casilla a la lista de casillas tapadas con vecinos destapados\n",
    "                    Buscaminas.bayesiano.add_nodes_from([x]) # Se añade la casilla como nodo de nuestra red\n",
    "                \n",
    "                if(not casilla_tiene_vecinos_destapados):\n",
    "                    casilla_oculta_sin_colindates_destapados = True\n",
    "            else:\n",
    "                y = 'Destapada{0}{1}'.format(fila,columna) # lo pone en formato Destapada (0,1),Destapada (0,2)...\n",
    "                casilla_tiene_vecinos_ocultos = False # Inicialización de variable\n",
    "                casillas_vecinas = posicion_casillas_vecinas(fila,columna,tableroBuscaminas) #obtiene la posicion de las casillas vecinas\n",
    "                Listado_de_minas = listado_de_minas(tableroBuscaminas) # Variable que contiene la posición de las minas del tablero\n",
    "                for vecino in casillas_vecinas:\n",
    "                    casilla_vecina_oculta = 'Tapada{0}{1}'.format(vecino[0],vecino[1])\n",
    "                    if(tableroBuscaminas[int(vecino[0])][int(vecino[1])] == casilla_sin_pulsar and \n",
    "                       not Listado_de_minas.__contains__(casilla_vecina_oculta)):\n",
    "                        casilla_tiene_vecinos_ocultos = True\n",
    "                        break\n",
    "                        \n",
    "                if(casilla_tiene_vecinos_ocultos):\n",
    "                    y_destapadas.append(y)\n",
    "                    Buscaminas.bayesiano.add_nodes_from([y])\n",
    "                    \n",
    "    print(\"Lista del nodo X:\")   \n",
    "    print(x_ocultas)\n",
    "    print(\"\\n\")\n",
    "    print(\"Lista del nodo Y:\")  \n",
    "    print(y_destapadas)\n",
    "    print(\"\\n\")\n",
    "    print(\"Lista de minas conocidas:\")\n",
    "    print(Minas_conocidas)\n",
    "        "
   ]
  },
  {
   "cell_type": "code",
   "execution_count": 30,
   "metadata": {},
   "outputs": [
    {
     "name": "stdout",
     "output_type": "stream",
     "text": [
      "Lista del nodo X:\n"
     ]
    },
    {
     "ename": "NameError",
     "evalue": "name 'x_ocultas' is not defined",
     "output_type": "error",
     "traceback": [
      "\u001b[1;31m---------------------------------------------------------------------------\u001b[0m",
      "\u001b[1;31mNameError\u001b[0m                                 Traceback (most recent call last)",
      "\u001b[1;32m<ipython-input-30-58eed03dc849>\u001b[0m in \u001b[0;36m<module>\u001b[1;34m()\u001b[0m\n\u001b[0;32m      1\u001b[0m \u001b[0mprint\u001b[0m\u001b[1;33m(\u001b[0m\u001b[1;34m\"Lista del nodo X:\"\u001b[0m\u001b[1;33m)\u001b[0m\u001b[1;33m\u001b[0m\u001b[0m\n\u001b[1;32m----> 2\u001b[1;33m \u001b[0mprint\u001b[0m\u001b[1;33m(\u001b[0m\u001b[0mx_ocultas\u001b[0m\u001b[1;33m)\u001b[0m\u001b[1;33m\u001b[0m\u001b[0m\n\u001b[0m\u001b[0;32m      3\u001b[0m \u001b[0mprint\u001b[0m\u001b[1;33m(\u001b[0m\u001b[1;34m\"\\n\"\u001b[0m\u001b[1;33m)\u001b[0m\u001b[1;33m\u001b[0m\u001b[0m\n\u001b[0;32m      4\u001b[0m \u001b[0mprint\u001b[0m\u001b[1;33m(\u001b[0m\u001b[1;34m\"Lista del nodo Y:\"\u001b[0m\u001b[1;33m)\u001b[0m\u001b[1;33m\u001b[0m\u001b[0m\n\u001b[0;32m      5\u001b[0m \u001b[0mprint\u001b[0m\u001b[1;33m(\u001b[0m\u001b[0my_destapadas\u001b[0m\u001b[1;33m)\u001b[0m\u001b[1;33m\u001b[0m\u001b[0m\n",
      "\u001b[1;31mNameError\u001b[0m: name 'x_ocultas' is not defined"
     ]
    }
   ],
   "source": []
  }
 ],
 "metadata": {
  "kernelspec": {
   "display_name": "Python 3",
   "language": "python",
   "name": "python3"
  },
  "language_info": {
   "codemirror_mode": {
    "name": "ipython",
    "version": 3
   },
   "file_extension": ".py",
   "mimetype": "text/x-python",
   "name": "python",
   "nbconvert_exporter": "python",
   "pygments_lexer": "ipython3",
   "version": "3.6.4"
  }
 },
 "nbformat": 4,
 "nbformat_minor": 2
}
