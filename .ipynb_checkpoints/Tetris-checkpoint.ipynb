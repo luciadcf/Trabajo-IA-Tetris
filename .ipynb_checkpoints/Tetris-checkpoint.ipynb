{
 "cells": [
  {
   "cell_type": "code",
   "execution_count": null,
   "metadata": {
    "collapsed": true
   },
   "outputs": [],
   "source": [
    "import problema_espacio_estados as probee"
   ]
  },
  {
   "cell_type": "code",
   "execution_count": null,
   "metadata": {},
   "outputs": [],
   "source": [
    "import búsqueda_espacio_estados as búsqee"
   ]
  },
  {
   "cell_type": "code",
   "execution_count": null,
   "metadata": {},
   "outputs": [],
   "source": [
    "import copy"
   ]
  },
  {
   "cell_type": "code",
   "execution_count": null,
   "metadata": {},
   "outputs": [],
   "source": [
    "piezas = [\n",
    "    {[0,0,0,0,0],\n",
    "     [0,0,0,0,0],\n",
    "     [0,i1,i2,i3,i4],\n",
    "     [0,0,0,0,0],\n",
    "     [0,0,0,0,0],I},\n",
    "    {[j1,0,0],\n",
    "     [j2,j3,j4],\n",
    "     [0,0,0],J},\n",
    "    {[0,0,l1],\n",
    "     [l2,l3,l4],\n",
    "     [0,0,0],L},\n",
    "    {[0,o1,o2],\n",
    "     [0,o3,o4],\n",
    "     [0,0,0,],O},\n",
    "    {[0,s1,s2],\n",
    "     [s3,s4,0],\n",
    "     {0,0,0,},S},\n",
    "    {[0,t1,0],\n",
    "     [t2,t3,t4],\n",
    "     [0,0,0],T},\n",
    "    {[z1,z2,0],\n",
    "     [0,z3,z4],\n",
    "     [0,0,0],Z}     \n",
    "]"
   ]
  },
  {
   "cell_type": "code",
   "execution_count": null,
   "metadata": {},
   "outputs": [],
   "source": [
    "# pantalla de 20 filas x 10 columnas, sin contar las dos filas sombreadas ni\n",
    "# los bordes negros de la pantalla del juego\n",
    "pantalla = [\n",
    "    [0,0,0,0,0,0,0,0,0,0],\n",
    "    [0,0,0,0,0,0,0,0,0,0],\n",
    "    [0,0,0,0,0,0,0,0,0,0],\n",
    "    [0,0,0,0,0,0,0,0,0,0],\n",
    "    [0,0,0,0,0,0,0,0,0,0],\n",
    "    [0,0,0,0,0,0,0,0,0,0],\n",
    "    [0,0,0,0,0,0,0,0,0,0],\n",
    "    [0,0,0,0,0,0,0,0,0,0],\n",
    "    [0,0,0,0,0,0,0,0,0,0],\n",
    "    [0,0,0,0,0,0,0,0,0,0],\n",
    "    [0,0,0,0,0,0,0,0,0,0],\n",
    "    [0,0,0,0,0,0,0,0,0,0],\n",
    "    [0,0,0,0,0,0,0,0,0,0],\n",
    "    [0,0,0,0,0,0,0,0,0,0],\n",
    "    [0,0,0,0,0,0,0,0,0,0],\n",
    "    [0,0,0,0,0,0,0,0,0,0],\n",
    "    [0,0,0,0,0,0,0,0,0,0],\n",
    "    [0,0,0,0,0,0,0,0,0,0],\n",
    "    [0,0,0,0,0,0,0,0,0,0],\n",
    "    [0,0,0,0,0,0,0,0,0,0],\n",
    "]"
   ]
  },
  {
   "cell_type": "code",
   "execution_count": null,
   "metadata": {},
   "outputs": [],
   "source": []
  }
 ],
 "metadata": {
  "kernelspec": {
   "display_name": "Python 3",
   "language": "python",
   "name": "python3"
  },
  "language_info": {
   "codemirror_mode": {
    "name": "ipython",
    "version": 3
   },
   "file_extension": ".py",
   "mimetype": "text/x-python",
   "name": "python",
   "nbconvert_exporter": "python",
   "pygments_lexer": "ipython3",
   "version": "3.6.4"
  }
 },
 "nbformat": 4,
 "nbformat_minor": 2
}
