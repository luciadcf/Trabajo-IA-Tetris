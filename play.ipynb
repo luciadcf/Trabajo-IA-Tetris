{
 "cells": [
  {
   "cell_type": "code",
   "execution_count": 4,
   "metadata": {},
   "outputs": [
    {
     "ename": "SyntaxError",
     "evalue": "invalid syntax (<ipython-input-4-30a2754904ac>, line 3)",
     "output_type": "error",
     "traceback": [
      "\u001b[1;36m  File \u001b[1;32m\"<ipython-input-4-30a2754904ac>\"\u001b[1;36m, line \u001b[1;32m3\u001b[0m\n\u001b[1;33m    from \".\" import Juego\u001b[0m\n\u001b[1;37m           ^\u001b[0m\n\u001b[1;31mSyntaxError\u001b[0m\u001b[1;31m:\u001b[0m invalid syntax\n"
     ]
    }
   ],
   "source": [
    "#from Juego import Buscaminas_bayesiano\n",
    "#from Utilidades import tablero_buscaminas,destapar_casillas_tablero,posicion_casillas_vecinas\n",
    "from \".\" import Juego \n",
    "from Juego import Buscaminas_bayesiano\n",
    "from \".\" import Utilidades\n",
    "from Utilidades import tablero_buscaminas,destapar_casillas_tablero,posicion_casillas_vecinas\n",
    "\n",
    "import time\n",
    "import re\n",
    "import sys\n",
    "import random\n",
    "\n",
    "sys.setrecursionlimit(650000)\n",
    "\n",
    "mina = '☠'\n",
    "casilla_sin_pulsar = '□'\n",
    "\n",
    "derrotas = 0\n",
    "\n",
    "class play:\n",
    "    \n",
    "    \n",
    "    def _play(self,filas, columnas, minas):\n",
    "        \n",
    "        print(\"Jugando al buscaminas\")\n",
    "        print(\"Tamaño tablero: filas = {0} ; columnas = {1} ; minas = {2}\".format(filas, columnas, minas))\n",
    "        # Start time game\n",
    "        juego_buscaminas = Buscaminas_bayesiano(filas, columnas, minas)\n",
    "        print(\"Tablero generado: \\n\")\n",
    "        print(juego_buscaminas.tableroBuscaminas)\n",
    "        \n",
    "        print(\"Tablero oculto: \\n\")\n",
    "        print(juego_buscaminas.tablero_buscaminas_oculto)\n",
    "        start_time = int(round(time.time()))\n",
    "        \n",
    "        fila = random.randint(0,filas-1)\n",
    "        columna = random.randint(0,columnas-1)\n",
    "        \n",
    "        tiempo1 = int(round(time.time()))\n",
    "        \n",
    "        juego_buscaminas = Buscaminas_bayesiano(filas, columnas, minas)\n",
    "        \n",
    "        juego_buscaminas.revealPos(fila, columna)\n",
    "        \n",
    "        juego_buscaminas.red_bayesiana()\n",
    "        \n",
    "        tiempo2 = int(round(time.time()))\n",
    "        \n",
    "        finish_time = int(round(time.time()))\n",
    "        \n",
    "        print(\"Tiempo del primer paso: {0} segundos\".format(tiempo2 - tiempo1))\n",
    "        \n",
    "        print(\"Tiempo del juego: {0}\".format(finish_time - start_time))\n",
    "        \n",
    "        \n",
    "\n",
    "    _play(5,5,5,5)"
   ]
  },
  {
   "cell_type": "code",
   "execution_count": null,
   "metadata": {},
   "outputs": [],
   "source": []
  }
 ],
 "metadata": {
  "kernelspec": {
   "display_name": "Python 3",
   "language": "python",
   "name": "python3"
  },
  "language_info": {
   "codemirror_mode": {
    "name": "ipython",
    "version": 3
   },
   "file_extension": ".py",
   "mimetype": "text/x-python",
   "name": "python",
   "nbconvert_exporter": "python",
   "pygments_lexer": "ipython3",
   "version": "3.6.4"
  }
 },
 "nbformat": 4,
 "nbformat_minor": 2
}
