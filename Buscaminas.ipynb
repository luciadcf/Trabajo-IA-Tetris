{
 "cells": [
  {
   "cell_type": "code",
   "execution_count": 1,
   "metadata": {},
   "outputs": [],
   "source": [
    "import random\n",
    "import networkx  \n",
    "import pgmpy.models as pgmm  \n",
    "import pgmpy.factors.discrete as pgmf              \n",
    "import pgmpy.inference as pgmi\n",
    "import random\n",
    "import numpy\n",
    "import emoji\n",
    "\n",
    "mina = emoji.emojize(':skull:')\n",
    "casilla_sin_pulsar = emoji.emojize(':white_large_square:')"
   ]
  },
  {
   "cell_type": "code",
   "execution_count": 2,
   "metadata": {},
   "outputs": [],
   "source": [
    "#Entrada de datos del buscaminas\n",
    "filas = 5\n",
    "columnas = 5\n",
    "minas = 10"
   ]
  },
  {
   "cell_type": "code",
   "execution_count": 3,
   "metadata": {},
   "outputs": [],
   "source": [
    "# Ahora, debemos de crear el tablero del juego, el cual dependerá del numero de filas, columnas y minas\n",
    "def tablero_buscaminas(filas, columnas, minas):\n",
    "    # Antes de nada, se debe de comprobar que el número de minas existente en el tablero sea menor o igual al número de casillas\n",
    "    if(minas > filas * columnas):\n",
    "        raise Exception (\"El número de minas debe ser menor o igual a\" + filas*columnas)\n",
    "        \n",
    "    # A continuación se pasa a construir el tablero\n",
    "    tableroBuscaminas = [[0 for x in range(filas)] for y in range(columnas)]\n",
    "    \n",
    "    # Vamos a pintar las minas. Recorremos el número de minas que queremos pintar y en el tablero mostramos \"X\" que indica\n",
    "    # que en esa casilla existe una mina.\n",
    "    for i in range(minas):\n",
    "        tableroBuscaminas[random.randint(0,filas-1)][random.randint(0,columnas-1)] = mina\n",
    "        \n",
    "    # Ahora pasamos a poner los índices de las casillas colindantes con minas. El número que aparece en la casilla va en un\n",
    "    # rango de 1 a 8 (arriba, abajo, izquierda, derecha y las 4 diagonales).\n",
    "    minas_colindantes = 0\n",
    "    for fila in range(filas):\n",
    "        for columna in range(columnas):\n",
    "            if(fila > 0 and tableroBuscaminas[fila-1][columna] == mina): # La mina se encuentra arriba\n",
    "                minas_colindantes += 1\n",
    "            if(fila +1 < len(tableroBuscaminas) and tableroBuscaminas[fila+1][columna] == mina): # La mina se encuentra abajo\n",
    "                minas_colindantes +=1\n",
    "            if(columna+1 < len(tableroBuscaminas[0]) and tableroBuscaminas[fila][columna+1] == mina):\n",
    "                # La mina se encuentra a la derecha\n",
    "                minas_colindantes +=1\n",
    "            if(columna > 0 and tableroBuscaminas[fila][columna-1] == mina): # La mina se encuentra a la izquierda\n",
    "                minas_colindantes +=1\n",
    "            if(fila > 0 and columna+1 < len(tableroBuscaminas[0]) and tableroBuscaminas[fila-1][columna+1] == mina):\n",
    "                # La mina se encuentra en la diagonal superior derecha\n",
    "                minas_colindantes +=1\n",
    "            if(fila+1 < len(tableroBuscaminas) and columna+1 < len(tableroBuscaminas[0]) and \n",
    "                   tableroBuscaminas[fila+1][columna+1] == mina): \n",
    "                # La mina se encuentra en la diagonal inferior derecha\n",
    "                minas_colindantes +=1\n",
    "            if(fila > 0 and columna > 0 and tableroBuscaminas[fila-1][columna-1] == mina):\n",
    "                # La mina se encuentra en la diagonal superior izquierda\n",
    "                minas_colindantes +=1\n",
    "            if(fila+1 < len(tableroBuscaminas) and columna > 0 and tableroBuscaminas[fila+1][columna-1] == mina): \n",
    "                # La mina se encuentra en la diagonal inferior izquierda\n",
    "                minas_colindantes +=1\n",
    "            # Pasamos a guardar el índice de minas colindantes en la casilla del tablero donde no hay ninguna mina.\n",
    "            if(minas_colindantes > 0 and tableroBuscaminas[fila][columna] != mina ):\n",
    "                tableroBuscaminas[fila][columna] = str(minas_colindantes)\n",
    "            minas_colindantes=0\n",
    "            \n",
    "    return tableroBuscaminas\n",
    "    \n",
    "    \n",
    "    \n",
    "    "
   ]
  },
  {
   "cell_type": "code",
   "execution_count": 14,
   "metadata": {},
   "outputs": [
    {
     "name": "stdout",
     "output_type": "stream",
     "text": [
      "[['0' '2' '💀' '💀' '💀']\n",
      " ['0' '2' '💀' '6' '💀']\n",
      " ['0' '1' '2' '💀' '2']\n",
      " ['2' '2' '2' '2' '2']\n",
      " ['💀' '💀' '1' '1' '💀']]\n"
     ]
    }
   ],
   "source": [
    "# Prueba de creación del tablero con los parámetros indicados\n",
    "tableroBuscaminas = tablero_buscaminas(filas,columnas,minas)\n",
    "# Para decirle que es un array y que salg\n",
    "print(numpy.array(tableroBuscaminas))"
   ]
  },
  {
   "cell_type": "code",
   "execution_count": 15,
   "metadata": {},
   "outputs": [],
   "source": [
    "# Pasamos a ocultar las casillas del tablero, se determina que dichas casillas ocultas se muestran con el símbolo \"O\"\n",
    "def ocultar_casillas_tablero(filas,columnas):\n",
    "    tablero_buscaminas_oculto = [[casilla_sin_pulsar for columna in range(columnas)] for fila in range(filas)]\n",
    "        \n",
    "    return tablero_buscaminas_oculto"
   ]
  },
  {
   "cell_type": "code",
   "execution_count": 16,
   "metadata": {},
   "outputs": [
    {
     "name": "stdout",
     "output_type": "stream",
     "text": [
      "[['⬜' '⬜' '⬜' '⬜' '⬜']\n",
      " ['⬜' '⬜' '⬜' '⬜' '⬜']\n",
      " ['⬜' '⬜' '⬜' '⬜' '⬜']\n",
      " ['⬜' '⬜' '⬜' '⬜' '⬜']\n",
      " ['⬜' '⬜' '⬜' '⬜' '⬜']]\n"
     ]
    }
   ],
   "source": [
    "# Prueba de ocultación del tablero\n",
    "tablero_buscaminas_oculto = ocultar_casillas_tablero(filas,columnas)\n",
    "print(numpy.array(tablero_buscaminas_oculto))"
   ]
  },
  {
   "cell_type": "code",
   "execution_count": 17,
   "metadata": {},
   "outputs": [],
   "source": [
    "# Vamos ahora a destapar las casillas del tablero. Al clicar sobre una casilla que no contiene una mina, se van a destapar un\n",
    "# conjunto colindante de casillas que no tienen minas ni están proximas con otras, es decir, con índice = 0. Como máximo,\n",
    "# el límite del destapado va a ser si la casilla que se destapa tiene al menos un vecino con mina.\n",
    "def destapar_casillas_tablero(fila,columna):\n",
    "    # Guardo el valor de la casilla en la que hacemos click\n",
    "    casillaDestapada = tableroBuscaminas[fila][columna]\n",
    "    # Guardamos en una variable la longitud del tablero para optimizar código\n",
    "    longitudTablero = len(tablero_buscaminas_oculto)\n",
    "    \n",
    "    # Si la casilla pulsada es una mina:\n",
    "    if(casillaDestapada == mina):\n",
    "        print(numpy.array(tableroBuscaminas))\n",
    "        raise Exception(\"Has encontrado una mina. Has perdido\")\n",
    "    # Si no lo es, cambiamos su valor en el tablero oculto por el valor de la casilla destapada\n",
    "    else:\n",
    "        tablero_buscaminas_oculto[fila][columna] = casillaDestapada\n",
    "        \n",
    "    if(casillaDestapada == 0): #Comprobamos si la casilla que destapamos tiene 0 minas colindantes\n",
    "        # si se da el caso, destapamos todas las casillas colindantes a la seleccionada ya que sabemos que ninguna es una mina\n",
    "        # se comprueba que las colindantes estén dentro del tablero\n",
    "        if((fila-1)>=0):\n",
    "            destapar_casillas_tablero(fila-1,columna)\n",
    "        if((fila+1)< longitudTablero):\n",
    "            destapar_casillas_tablero(fila+1,columna)\n",
    "        if((columna+1)< longitudTablero):\n",
    "            destapar_casillas_tablero(fila,columna+1)\n",
    "        if((columna-1)>=0):\n",
    "            destapar_casillas_tablero(fila,columna-1)\n",
    "        if((fila-1)>=0 and (columna+1) < longitudTablero):\n",
    "            destapar_casillas_tablero(fila-1,columna+1)\n",
    "        if((fila+1)< longitudTablero and (columna+1)< longitudTablero):\n",
    "            destapar_casillas_tablero(fila+1,columna+1)\n",
    "        if((fila-1)>=0 and (columna-1)>= 0):\n",
    "            destapar_casillas_tablero(fila-1,columna-1)\n",
    "        if((fila+1)< longitudTablero and (columna-1)>=0):\n",
    "            destapar_casillas_tablero(fila+1,columna-1)\n",
    "    \n",
    "    return tablero_buscaminas_oculto        \n",
    "            \n",
    "    \n",
    "            "
   ]
  },
  {
   "cell_type": "code",
   "execution_count": 22,
   "metadata": {},
   "outputs": [
    {
     "data": {
      "text/plain": [
       "[['⬜', '2', '⬜', '⬜', '⬜'],\n",
       " ['⬜', '⬜', '⬜', '⬜', '⬜'],\n",
       " ['⬜', '⬜', '⬜', '⬜', '2'],\n",
       " ['⬜', '⬜', '⬜', '⬜', '⬜'],\n",
       " ['⬜', '⬜', '⬜', '⬜', '⬜']]"
      ]
     },
     "execution_count": 22,
     "metadata": {},
     "output_type": "execute_result"
    }
   ],
   "source": [
    "# Vamos a probar ahora el destapado de una casilla\n",
    "destapar_casillas_tablero(2,4)"
   ]
  },
  {
   "cell_type": "code",
   "execution_count": null,
   "metadata": {},
   "outputs": [],
   "source": []
  },
  {
   "cell_type": "code",
   "execution_count": null,
   "metadata": {},
   "outputs": [],
   "source": []
  },
  {
   "cell_type": "code",
   "execution_count": null,
   "metadata": {},
   "outputs": [],
   "source": []
  },
  {
   "cell_type": "code",
   "execution_count": null,
   "metadata": {},
   "outputs": [],
   "source": []
  }
 ],
 "metadata": {
  "kernelspec": {
   "display_name": "Python 3",
   "language": "python",
   "name": "python3"
  },
  "language_info": {
   "codemirror_mode": {
    "name": "ipython",
    "version": 3
   },
   "file_extension": ".py",
   "mimetype": "text/x-python",
   "name": "python",
   "nbconvert_exporter": "python",
   "pygments_lexer": "ipython3",
   "version": "3.6.4"
  }
 },
 "nbformat": 4,
 "nbformat_minor": 2
}
