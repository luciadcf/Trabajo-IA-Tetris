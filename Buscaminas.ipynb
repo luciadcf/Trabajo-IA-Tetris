{
 "cells": [
  {
   "cell_type": "code",
   "execution_count": 7,
   "metadata": {},
   "outputs": [],
   "source": [
    "import random\n",
    "import networkx  \n",
    "import pgmpy.models as pgmm  \n",
    "import pgmpy.factors.discrete as pgmf              \n",
    "import pgmpy.inference as pgmi\n",
    "import random"
   ]
  },
  {
   "cell_type": "code",
   "execution_count": 8,
   "metadata": {},
   "outputs": [],
   "source": [
    "#Entrada de datos del buscaminas\n",
    "filas = 6\n",
    "columnas = 6\n",
    "minas = 6"
   ]
  },
  {
   "cell_type": "code",
   "execution_count": 9,
   "metadata": {},
   "outputs": [],
   "source": [
    "# Ahora, debemos de crear el tablero del juego, el cual dependerá del numero de filas, columnas y minas\n",
    "def tablero_buscaminas (filas, columnas, minas):\n",
    "    # Antes de nada, se debe de comprobar que el número de minas existente en el tablero sea menor o igual al número de casillas\n",
    "    if(minas > filas * columnas):\n",
    "        raise Exception (\"El número de minas debe ser menor o igual a\" + filas*columnas)\n",
    "        \n",
    "    # A continuación se pasa a construir el tablero\n",
    "    tableroBuscaminas = [[0 for x in range(filas)] for y in range(columnas)]\n",
    "    \n",
    "    # Vamos a pintar las minas. Recorremos el número de minas que queremos pintar y en el tablero pintamos una X que indica\n",
    "    # que en esa casilla existe una mina.\n",
    "    for i in range(minas):\n",
    "        tableroBuscaminas[random.randint(0,filas)][random.randint(0,columnas)] = \"X\"\n",
    "        \n",
    "    # Ahora pasamos a poner los índices de las casillas colindantes con minas. El número que aparece en la casilla va en un\n",
    "    # rango de 1 a 8 (arriba, abajo, izquierda, derecha y las 4 diagonales).\n",
    "    minas_colindantes = 0\n",
    "    for fila in range(filas):\n",
    "        for columna in range(columnas):\n",
    "            if(tableroBuscaminas[fila-1][columna] == \"X\"): # La mina se encuentra arriba\n",
    "                minas_colindantes += 1\n",
    "            if(tableroBuscaminas[fila+1][columna] == \"X\"): # La mina se encuentra abajo\n",
    "                minas_colindantes +=1\n",
    "            if(tableroBuscaminas[fila][columna+1] == \"X\"): # La mina se encuentra a la derecha\n",
    "                minas_colindantes +=1\n",
    "            if(tableroBuscaminas[fila][columna-1] == \"X\"): # La mina se encuentra a la izquierda\n",
    "                minas_colindantes +=1\n",
    "            if(tableroBuscaminas[fila-1][columna+1] == \"X\"): # La mina se encuentra en la diagonal superior derecha\n",
    "                minas_colindantes +=1\n",
    "            if(tableroBuscaminas[fila+1][columna+1] == \"X\"): # La mina se encuentra en la diagonal inferior derecha\n",
    "                minas_colindantes +=1\n",
    "            if(tableroBuscaminas[fila-1][columna-1] == \"X\"): # La mina se encuentra en la diagonal superior izquierda\n",
    "                minas_colindantes +=1\n",
    "            if(tableroBuscaminas[fila+1][columna-1] == \"X\"): # La mina se encuentra en la diagonal inferior izquierda\n",
    "                minas_colindantes +=1\n",
    "            # Aquí he visto que hacen una comprobación de que si el número de minas es superior a 0 y la casilla donde estoy\n",
    "            # no hay mina, guarda ese numero en esa posición del tablero. NO SE POR QUÉ\n",
    "            if(minas_colindantes > 0 & tableroBuscaminas[fila][columna] != \"X\" ):\n",
    "                tableroBuscaminas[fila][columna] = str(minas_colindantes)\n",
    "            minas_colindantes=0\n",
    "            \n",
    "    return tableroBuscaminas\n",
    "    \n",
    "    \n",
    "    \n",
    "    "
   ]
  },
  {
   "cell_type": "code",
   "execution_count": null,
   "metadata": {},
   "outputs": [],
   "source": []
  },
  {
   "cell_type": "code",
   "execution_count": null,
   "metadata": {},
   "outputs": [],
   "source": []
  },
  {
   "cell_type": "code",
   "execution_count": null,
   "metadata": {},
   "outputs": [],
   "source": []
  },
  {
   "cell_type": "code",
   "execution_count": null,
   "metadata": {},
   "outputs": [],
   "source": []
  },
  {
   "cell_type": "code",
   "execution_count": null,
   "metadata": {},
   "outputs": [],
   "source": []
  },
  {
   "cell_type": "code",
   "execution_count": null,
   "metadata": {},
   "outputs": [],
   "source": []
  },
  {
   "cell_type": "code",
   "execution_count": null,
   "metadata": {},
   "outputs": [],
   "source": []
  }
 ],
 "metadata": {
  "kernelspec": {
   "display_name": "Python 3",
   "language": "python",
   "name": "python3"
  },
  "language_info": {
   "codemirror_mode": {
    "name": "ipython",
    "version": 3
   },
   "file_extension": ".py",
   "mimetype": "text/x-python",
   "name": "python",
   "nbconvert_exporter": "python",
   "pygments_lexer": "ipython3",
   "version": "3.6.4"
  }
 },
 "nbformat": 4,
 "nbformat_minor": 2
}
