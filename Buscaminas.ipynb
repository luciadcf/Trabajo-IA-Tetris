{
 "cells": [
  {
   "cell_type": "code",
   "execution_count": 2,
   "metadata": {},
   "outputs": [],
   "source": [
    "import random\n",
    "import networkx  \n",
    "import pgmpy.models as pgmm  \n",
    "import pgmpy.factors.discrete as pgmf              \n",
    "import pgmpy.inference as pgmi\n",
    "from random import randint"
   ]
  },
  {
   "cell_type": "code",
   "execution_count": 3,
   "metadata": {},
   "outputs": [],
   "source": [
    "#Entrada de datos del buscaminas\n",
    "filas = 6\n",
    "columnas = 6\n",
    "minas = 6"
   ]
  },
  {
   "cell_type": "code",
   "execution_count": null,
   "metadata": {},
   "outputs": [],
   "source": [
    "# Ahora, debemos de crear el tablero del juego, el cual dependerá del numero de filas, columnas y minas\n",
    "def tablero_buscaminas (filas, columnas, minas):\n",
    "    # Antes de nada, se debe de comprobar que el número de minas existente en el tablero sea menor o igual al número de casillas\n",
    "    if(minas > filas * columnas):\n",
    "        raise Exception (\"El número de minas debe ser menor o igual a\" + filas*columnas)\n",
    "        \n",
    "    # A continuación se pasa a construir el tablero\n",
    "    tableroBuscaminas = [[0 for y in range(columnas)] for x in range(filas)]\n",
    "    \n",
    "    # Vamos a pintar las minas\n",
    "    for i in range(minas):\n",
    "        fila_random = -1\n",
    "        columna_random = -1\n",
    "        while(fila_random = -1 || columna_random = -1 || tableroBuscaminas[fila_random][columna_random] == 'X'):\n",
    "            fila_random = randint(0, filas -1)\n",
    "            columna_random = randint(0, columnas-1)\n",
    "        # En la fila y columna se le asigna el valor X que indica que en la casilla existe una mina\n",
    "        tableroBuscaminas[fila_random][columna_random] = \"X\""
   ]
  },
  {
   "cell_type": "code",
   "execution_count": null,
   "metadata": {},
   "outputs": [],
   "source": []
  },
  {
   "cell_type": "code",
   "execution_count": null,
   "metadata": {},
   "outputs": [],
   "source": []
  },
  {
   "cell_type": "code",
   "execution_count": null,
   "metadata": {},
   "outputs": [],
   "source": []
  },
  {
   "cell_type": "code",
   "execution_count": null,
   "metadata": {},
   "outputs": [],
   "source": []
  },
  {
   "cell_type": "code",
   "execution_count": null,
   "metadata": {},
   "outputs": [],
   "source": []
  },
  {
   "cell_type": "code",
   "execution_count": null,
   "metadata": {},
   "outputs": [],
   "source": []
  },
  {
   "cell_type": "code",
   "execution_count": null,
   "metadata": {},
   "outputs": [],
   "source": []
  }
 ],
 "metadata": {
  "kernelspec": {
   "display_name": "Python 3",
   "language": "python",
   "name": "python3"
  },
  "language_info": {
   "codemirror_mode": {
    "name": "ipython",
    "version": 3
   },
   "file_extension": ".py",
   "mimetype": "text/x-python",
   "name": "python",
   "nbconvert_exporter": "python",
   "pygments_lexer": "ipython3",
   "version": "3.6.4"
  }
 },
 "nbformat": 4,
 "nbformat_minor": 2
}
